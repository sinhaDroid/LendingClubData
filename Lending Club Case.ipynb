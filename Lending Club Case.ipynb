{
 "cells": [
  {
   "cell_type": "code",
   "execution_count": 1,
   "metadata": {},
   "outputs": [],
   "source": [
    "import numpy as np\n",
    "import pandas as pd\n",
    "pd.set_option('max_columns', 120)\n",
    "pd.set_option('max_colwidth', 5000)\n",
    "import matplotlib.pyplot as plt\n",
    "from matplotlib import style\n",
    "import seaborn as sns\n",
    "%matplotlib inline\n",
    "plt.rcParams['figure.figsize'] = (12,8)"
   ]
  },
  {
   "cell_type": "markdown",
   "metadata": {},
   "source": [
    "Reading the loan data file"
   ]
  },
  {
   "cell_type": "code",
   "execution_count": 2,
   "metadata": {},
   "outputs": [
    {
     "data": {
      "text/html": [
       "<div>\n",
       "<style scoped>\n",
       "    .dataframe tbody tr th:only-of-type {\n",
       "        vertical-align: middle;\n",
       "    }\n",
       "\n",
       "    .dataframe tbody tr th {\n",
       "        vertical-align: top;\n",
       "    }\n",
       "\n",
       "    .dataframe thead th {\n",
       "        text-align: right;\n",
       "    }\n",
       "</style>\n",
       "<table border=\"1\" class=\"dataframe\">\n",
       "  <thead>\n",
       "    <tr style=\"text-align: right;\">\n",
       "      <th></th>\n",
       "      <th>id</th>\n",
       "      <th>member_id</th>\n",
       "      <th>loan_amnt</th>\n",
       "      <th>funded_amnt</th>\n",
       "      <th>funded_amnt_inv</th>\n",
       "      <th>term</th>\n",
       "      <th>int_rate</th>\n",
       "      <th>installment</th>\n",
       "      <th>grade</th>\n",
       "      <th>sub_grade</th>\n",
       "      <th>emp_title</th>\n",
       "      <th>emp_length</th>\n",
       "      <th>home_ownership</th>\n",
       "      <th>annual_inc</th>\n",
       "      <th>verification_status</th>\n",
       "      <th>issue_d</th>\n",
       "      <th>loan_status</th>\n",
       "      <th>pymnt_plan</th>\n",
       "      <th>url</th>\n",
       "      <th>desc</th>\n",
       "      <th>purpose</th>\n",
       "      <th>title</th>\n",
       "      <th>zip_code</th>\n",
       "      <th>addr_state</th>\n",
       "      <th>dti</th>\n",
       "      <th>delinq_2yrs</th>\n",
       "      <th>earliest_cr_line</th>\n",
       "      <th>inq_last_6mths</th>\n",
       "      <th>mths_since_last_delinq</th>\n",
       "      <th>mths_since_last_record</th>\n",
       "      <th>open_acc</th>\n",
       "      <th>pub_rec</th>\n",
       "      <th>revol_bal</th>\n",
       "      <th>revol_util</th>\n",
       "      <th>total_acc</th>\n",
       "      <th>initial_list_status</th>\n",
       "      <th>out_prncp</th>\n",
       "      <th>out_prncp_inv</th>\n",
       "      <th>total_pymnt</th>\n",
       "      <th>total_pymnt_inv</th>\n",
       "      <th>total_rec_prncp</th>\n",
       "      <th>total_rec_int</th>\n",
       "      <th>total_rec_late_fee</th>\n",
       "      <th>recoveries</th>\n",
       "      <th>collection_recovery_fee</th>\n",
       "      <th>last_pymnt_d</th>\n",
       "      <th>last_pymnt_amnt</th>\n",
       "      <th>next_pymnt_d</th>\n",
       "      <th>last_credit_pull_d</th>\n",
       "      <th>collections_12_mths_ex_med</th>\n",
       "      <th>mths_since_last_major_derog</th>\n",
       "      <th>policy_code</th>\n",
       "      <th>application_type</th>\n",
       "      <th>annual_inc_joint</th>\n",
       "      <th>dti_joint</th>\n",
       "      <th>verification_status_joint</th>\n",
       "      <th>acc_now_delinq</th>\n",
       "      <th>tot_coll_amt</th>\n",
       "      <th>tot_cur_bal</th>\n",
       "      <th>open_acc_6m</th>\n",
       "      <th>open_il_6m</th>\n",
       "      <th>open_il_12m</th>\n",
       "      <th>open_il_24m</th>\n",
       "      <th>mths_since_rcnt_il</th>\n",
       "      <th>total_bal_il</th>\n",
       "      <th>il_util</th>\n",
       "      <th>open_rv_12m</th>\n",
       "      <th>open_rv_24m</th>\n",
       "      <th>max_bal_bc</th>\n",
       "      <th>all_util</th>\n",
       "      <th>total_rev_hi_lim</th>\n",
       "      <th>inq_fi</th>\n",
       "      <th>total_cu_tl</th>\n",
       "      <th>inq_last_12m</th>\n",
       "      <th>acc_open_past_24mths</th>\n",
       "      <th>avg_cur_bal</th>\n",
       "      <th>bc_open_to_buy</th>\n",
       "      <th>bc_util</th>\n",
       "      <th>chargeoff_within_12_mths</th>\n",
       "      <th>delinq_amnt</th>\n",
       "      <th>mo_sin_old_il_acct</th>\n",
       "      <th>mo_sin_old_rev_tl_op</th>\n",
       "      <th>mo_sin_rcnt_rev_tl_op</th>\n",
       "      <th>mo_sin_rcnt_tl</th>\n",
       "      <th>mort_acc</th>\n",
       "      <th>mths_since_recent_bc</th>\n",
       "      <th>mths_since_recent_bc_dlq</th>\n",
       "      <th>mths_since_recent_inq</th>\n",
       "      <th>mths_since_recent_revol_delinq</th>\n",
       "      <th>num_accts_ever_120_pd</th>\n",
       "      <th>num_actv_bc_tl</th>\n",
       "      <th>num_actv_rev_tl</th>\n",
       "      <th>num_bc_sats</th>\n",
       "      <th>num_bc_tl</th>\n",
       "      <th>num_il_tl</th>\n",
       "      <th>num_op_rev_tl</th>\n",
       "      <th>num_rev_accts</th>\n",
       "      <th>num_rev_tl_bal_gt_0</th>\n",
       "      <th>num_sats</th>\n",
       "      <th>num_tl_120dpd_2m</th>\n",
       "      <th>num_tl_30dpd</th>\n",
       "      <th>num_tl_90g_dpd_24m</th>\n",
       "      <th>num_tl_op_past_12m</th>\n",
       "      <th>pct_tl_nvr_dlq</th>\n",
       "      <th>percent_bc_gt_75</th>\n",
       "      <th>pub_rec_bankruptcies</th>\n",
       "      <th>tax_liens</th>\n",
       "      <th>tot_hi_cred_lim</th>\n",
       "      <th>total_bal_ex_mort</th>\n",
       "      <th>total_bc_limit</th>\n",
       "      <th>total_il_high_credit_limit</th>\n",
       "    </tr>\n",
       "  </thead>\n",
       "  <tbody>\n",
       "    <tr>\n",
       "      <td>0</td>\n",
       "      <td>1077501</td>\n",
       "      <td>1296599</td>\n",
       "      <td>5000</td>\n",
       "      <td>5000</td>\n",
       "      <td>4975.0</td>\n",
       "      <td>36 months</td>\n",
       "      <td>10.65%</td>\n",
       "      <td>162.87</td>\n",
       "      <td>B</td>\n",
       "      <td>B2</td>\n",
       "      <td>NaN</td>\n",
       "      <td>10+ years</td>\n",
       "      <td>RENT</td>\n",
       "      <td>24000.0</td>\n",
       "      <td>Verified</td>\n",
       "      <td>Dec-11</td>\n",
       "      <td>Fully Paid</td>\n",
       "      <td>n</td>\n",
       "      <td>https://lendingclub.com/browse/loanDetail.action?loan_id=1077501</td>\n",
       "      <td>Borrower added on 12/22/11 &gt; I need to upgrade my business technologies.&lt;br&gt;</td>\n",
       "      <td>credit_card</td>\n",
       "      <td>Computer</td>\n",
       "      <td>860xx</td>\n",
       "      <td>AZ</td>\n",
       "      <td>27.65</td>\n",
       "      <td>0</td>\n",
       "      <td>Jan-85</td>\n",
       "      <td>1</td>\n",
       "      <td>NaN</td>\n",
       "      <td>NaN</td>\n",
       "      <td>3</td>\n",
       "      <td>0</td>\n",
       "      <td>13648</td>\n",
       "      <td>83.70%</td>\n",
       "      <td>9</td>\n",
       "      <td>f</td>\n",
       "      <td>0.0</td>\n",
       "      <td>0.0</td>\n",
       "      <td>5863.155187</td>\n",
       "      <td>5833.84</td>\n",
       "      <td>5000.00</td>\n",
       "      <td>863.16</td>\n",
       "      <td>0.0</td>\n",
       "      <td>0.00</td>\n",
       "      <td>0.00</td>\n",
       "      <td>Jan-15</td>\n",
       "      <td>171.62</td>\n",
       "      <td>NaN</td>\n",
       "      <td>May-16</td>\n",
       "      <td>0.0</td>\n",
       "      <td>NaN</td>\n",
       "      <td>1</td>\n",
       "      <td>INDIVIDUAL</td>\n",
       "      <td>NaN</td>\n",
       "      <td>NaN</td>\n",
       "      <td>NaN</td>\n",
       "      <td>0</td>\n",
       "      <td>NaN</td>\n",
       "      <td>NaN</td>\n",
       "      <td>NaN</td>\n",
       "      <td>NaN</td>\n",
       "      <td>NaN</td>\n",
       "      <td>NaN</td>\n",
       "      <td>NaN</td>\n",
       "      <td>NaN</td>\n",
       "      <td>NaN</td>\n",
       "      <td>NaN</td>\n",
       "      <td>NaN</td>\n",
       "      <td>NaN</td>\n",
       "      <td>NaN</td>\n",
       "      <td>NaN</td>\n",
       "      <td>NaN</td>\n",
       "      <td>NaN</td>\n",
       "      <td>NaN</td>\n",
       "      <td>NaN</td>\n",
       "      <td>NaN</td>\n",
       "      <td>NaN</td>\n",
       "      <td>NaN</td>\n",
       "      <td>0.0</td>\n",
       "      <td>0</td>\n",
       "      <td>NaN</td>\n",
       "      <td>NaN</td>\n",
       "      <td>NaN</td>\n",
       "      <td>NaN</td>\n",
       "      <td>NaN</td>\n",
       "      <td>NaN</td>\n",
       "      <td>NaN</td>\n",
       "      <td>NaN</td>\n",
       "      <td>NaN</td>\n",
       "      <td>NaN</td>\n",
       "      <td>NaN</td>\n",
       "      <td>NaN</td>\n",
       "      <td>NaN</td>\n",
       "      <td>NaN</td>\n",
       "      <td>NaN</td>\n",
       "      <td>NaN</td>\n",
       "      <td>NaN</td>\n",
       "      <td>NaN</td>\n",
       "      <td>NaN</td>\n",
       "      <td>NaN</td>\n",
       "      <td>NaN</td>\n",
       "      <td>NaN</td>\n",
       "      <td>NaN</td>\n",
       "      <td>NaN</td>\n",
       "      <td>NaN</td>\n",
       "      <td>0.0</td>\n",
       "      <td>0.0</td>\n",
       "      <td>NaN</td>\n",
       "      <td>NaN</td>\n",
       "      <td>NaN</td>\n",
       "      <td>NaN</td>\n",
       "    </tr>\n",
       "    <tr>\n",
       "      <td>1</td>\n",
       "      <td>1077430</td>\n",
       "      <td>1314167</td>\n",
       "      <td>2500</td>\n",
       "      <td>2500</td>\n",
       "      <td>2500.0</td>\n",
       "      <td>60 months</td>\n",
       "      <td>15.27%</td>\n",
       "      <td>59.83</td>\n",
       "      <td>C</td>\n",
       "      <td>C4</td>\n",
       "      <td>Ryder</td>\n",
       "      <td>&lt; 1 year</td>\n",
       "      <td>RENT</td>\n",
       "      <td>30000.0</td>\n",
       "      <td>Source Verified</td>\n",
       "      <td>Dec-11</td>\n",
       "      <td>Charged Off</td>\n",
       "      <td>n</td>\n",
       "      <td>https://lendingclub.com/browse/loanDetail.action?loan_id=1077430</td>\n",
       "      <td>Borrower added on 12/22/11 &gt; I plan to use this money to finance the motorcycle i am looking at. I plan to have it paid off as soon as possible/when i sell my old bike. I only need this money because the deal im looking at is to good to pass up.&lt;br&gt;&lt;br&gt;  Borrower added on 12/22/11 &gt; I plan to use this money to finance the motorcycle i am looking at. I plan to have it paid off as soon as possible/when i sell my old bike.I only need this money because the deal im looking at is to good to pass up. I have finished college with an associates degree in business and its takingmeplaces&lt;br&gt;</td>\n",
       "      <td>car</td>\n",
       "      <td>bike</td>\n",
       "      <td>309xx</td>\n",
       "      <td>GA</td>\n",
       "      <td>1.00</td>\n",
       "      <td>0</td>\n",
       "      <td>Apr-99</td>\n",
       "      <td>5</td>\n",
       "      <td>NaN</td>\n",
       "      <td>NaN</td>\n",
       "      <td>3</td>\n",
       "      <td>0</td>\n",
       "      <td>1687</td>\n",
       "      <td>9.40%</td>\n",
       "      <td>4</td>\n",
       "      <td>f</td>\n",
       "      <td>0.0</td>\n",
       "      <td>0.0</td>\n",
       "      <td>1008.710000</td>\n",
       "      <td>1008.71</td>\n",
       "      <td>456.46</td>\n",
       "      <td>435.17</td>\n",
       "      <td>0.0</td>\n",
       "      <td>117.08</td>\n",
       "      <td>1.11</td>\n",
       "      <td>Apr-13</td>\n",
       "      <td>119.66</td>\n",
       "      <td>NaN</td>\n",
       "      <td>Sep-13</td>\n",
       "      <td>0.0</td>\n",
       "      <td>NaN</td>\n",
       "      <td>1</td>\n",
       "      <td>INDIVIDUAL</td>\n",
       "      <td>NaN</td>\n",
       "      <td>NaN</td>\n",
       "      <td>NaN</td>\n",
       "      <td>0</td>\n",
       "      <td>NaN</td>\n",
       "      <td>NaN</td>\n",
       "      <td>NaN</td>\n",
       "      <td>NaN</td>\n",
       "      <td>NaN</td>\n",
       "      <td>NaN</td>\n",
       "      <td>NaN</td>\n",
       "      <td>NaN</td>\n",
       "      <td>NaN</td>\n",
       "      <td>NaN</td>\n",
       "      <td>NaN</td>\n",
       "      <td>NaN</td>\n",
       "      <td>NaN</td>\n",
       "      <td>NaN</td>\n",
       "      <td>NaN</td>\n",
       "      <td>NaN</td>\n",
       "      <td>NaN</td>\n",
       "      <td>NaN</td>\n",
       "      <td>NaN</td>\n",
       "      <td>NaN</td>\n",
       "      <td>NaN</td>\n",
       "      <td>0.0</td>\n",
       "      <td>0</td>\n",
       "      <td>NaN</td>\n",
       "      <td>NaN</td>\n",
       "      <td>NaN</td>\n",
       "      <td>NaN</td>\n",
       "      <td>NaN</td>\n",
       "      <td>NaN</td>\n",
       "      <td>NaN</td>\n",
       "      <td>NaN</td>\n",
       "      <td>NaN</td>\n",
       "      <td>NaN</td>\n",
       "      <td>NaN</td>\n",
       "      <td>NaN</td>\n",
       "      <td>NaN</td>\n",
       "      <td>NaN</td>\n",
       "      <td>NaN</td>\n",
       "      <td>NaN</td>\n",
       "      <td>NaN</td>\n",
       "      <td>NaN</td>\n",
       "      <td>NaN</td>\n",
       "      <td>NaN</td>\n",
       "      <td>NaN</td>\n",
       "      <td>NaN</td>\n",
       "      <td>NaN</td>\n",
       "      <td>NaN</td>\n",
       "      <td>NaN</td>\n",
       "      <td>0.0</td>\n",
       "      <td>0.0</td>\n",
       "      <td>NaN</td>\n",
       "      <td>NaN</td>\n",
       "      <td>NaN</td>\n",
       "      <td>NaN</td>\n",
       "    </tr>\n",
       "    <tr>\n",
       "      <td>2</td>\n",
       "      <td>1077175</td>\n",
       "      <td>1313524</td>\n",
       "      <td>2400</td>\n",
       "      <td>2400</td>\n",
       "      <td>2400.0</td>\n",
       "      <td>36 months</td>\n",
       "      <td>15.96%</td>\n",
       "      <td>84.33</td>\n",
       "      <td>C</td>\n",
       "      <td>C5</td>\n",
       "      <td>NaN</td>\n",
       "      <td>10+ years</td>\n",
       "      <td>RENT</td>\n",
       "      <td>12252.0</td>\n",
       "      <td>Not Verified</td>\n",
       "      <td>Dec-11</td>\n",
       "      <td>Fully Paid</td>\n",
       "      <td>n</td>\n",
       "      <td>https://lendingclub.com/browse/loanDetail.action?loan_id=1077175</td>\n",
       "      <td>NaN</td>\n",
       "      <td>small_business</td>\n",
       "      <td>real estate business</td>\n",
       "      <td>606xx</td>\n",
       "      <td>IL</td>\n",
       "      <td>8.72</td>\n",
       "      <td>0</td>\n",
       "      <td>Nov-01</td>\n",
       "      <td>2</td>\n",
       "      <td>NaN</td>\n",
       "      <td>NaN</td>\n",
       "      <td>2</td>\n",
       "      <td>0</td>\n",
       "      <td>2956</td>\n",
       "      <td>98.50%</td>\n",
       "      <td>10</td>\n",
       "      <td>f</td>\n",
       "      <td>0.0</td>\n",
       "      <td>0.0</td>\n",
       "      <td>3005.666844</td>\n",
       "      <td>3005.67</td>\n",
       "      <td>2400.00</td>\n",
       "      <td>605.67</td>\n",
       "      <td>0.0</td>\n",
       "      <td>0.00</td>\n",
       "      <td>0.00</td>\n",
       "      <td>Jun-14</td>\n",
       "      <td>649.91</td>\n",
       "      <td>NaN</td>\n",
       "      <td>May-16</td>\n",
       "      <td>0.0</td>\n",
       "      <td>NaN</td>\n",
       "      <td>1</td>\n",
       "      <td>INDIVIDUAL</td>\n",
       "      <td>NaN</td>\n",
       "      <td>NaN</td>\n",
       "      <td>NaN</td>\n",
       "      <td>0</td>\n",
       "      <td>NaN</td>\n",
       "      <td>NaN</td>\n",
       "      <td>NaN</td>\n",
       "      <td>NaN</td>\n",
       "      <td>NaN</td>\n",
       "      <td>NaN</td>\n",
       "      <td>NaN</td>\n",
       "      <td>NaN</td>\n",
       "      <td>NaN</td>\n",
       "      <td>NaN</td>\n",
       "      <td>NaN</td>\n",
       "      <td>NaN</td>\n",
       "      <td>NaN</td>\n",
       "      <td>NaN</td>\n",
       "      <td>NaN</td>\n",
       "      <td>NaN</td>\n",
       "      <td>NaN</td>\n",
       "      <td>NaN</td>\n",
       "      <td>NaN</td>\n",
       "      <td>NaN</td>\n",
       "      <td>NaN</td>\n",
       "      <td>0.0</td>\n",
       "      <td>0</td>\n",
       "      <td>NaN</td>\n",
       "      <td>NaN</td>\n",
       "      <td>NaN</td>\n",
       "      <td>NaN</td>\n",
       "      <td>NaN</td>\n",
       "      <td>NaN</td>\n",
       "      <td>NaN</td>\n",
       "      <td>NaN</td>\n",
       "      <td>NaN</td>\n",
       "      <td>NaN</td>\n",
       "      <td>NaN</td>\n",
       "      <td>NaN</td>\n",
       "      <td>NaN</td>\n",
       "      <td>NaN</td>\n",
       "      <td>NaN</td>\n",
       "      <td>NaN</td>\n",
       "      <td>NaN</td>\n",
       "      <td>NaN</td>\n",
       "      <td>NaN</td>\n",
       "      <td>NaN</td>\n",
       "      <td>NaN</td>\n",
       "      <td>NaN</td>\n",
       "      <td>NaN</td>\n",
       "      <td>NaN</td>\n",
       "      <td>NaN</td>\n",
       "      <td>0.0</td>\n",
       "      <td>0.0</td>\n",
       "      <td>NaN</td>\n",
       "      <td>NaN</td>\n",
       "      <td>NaN</td>\n",
       "      <td>NaN</td>\n",
       "    </tr>\n",
       "  </tbody>\n",
       "</table>\n",
       "</div>"
      ],
      "text/plain": [
       "        id  member_id  loan_amnt  funded_amnt  funded_amnt_inv        term  \\\n",
       "0  1077501    1296599       5000         5000           4975.0   36 months   \n",
       "1  1077430    1314167       2500         2500           2500.0   60 months   \n",
       "2  1077175    1313524       2400         2400           2400.0   36 months   \n",
       "\n",
       "  int_rate  installment grade sub_grade emp_title emp_length home_ownership  \\\n",
       "0   10.65%       162.87     B        B2       NaN  10+ years           RENT   \n",
       "1   15.27%        59.83     C        C4     Ryder   < 1 year           RENT   \n",
       "2   15.96%        84.33     C        C5       NaN  10+ years           RENT   \n",
       "\n",
       "   annual_inc verification_status issue_d  loan_status pymnt_plan  \\\n",
       "0     24000.0            Verified  Dec-11   Fully Paid          n   \n",
       "1     30000.0     Source Verified  Dec-11  Charged Off          n   \n",
       "2     12252.0        Not Verified  Dec-11   Fully Paid          n   \n",
       "\n",
       "                                                                url  \\\n",
       "0  https://lendingclub.com/browse/loanDetail.action?loan_id=1077501   \n",
       "1  https://lendingclub.com/browse/loanDetail.action?loan_id=1077430   \n",
       "2  https://lendingclub.com/browse/loanDetail.action?loan_id=1077175   \n",
       "\n",
       "                                                                                                                                                                                                                                                                                                                                                                                                                                                                                                                                                                                                             desc  \\\n",
       "0                                                                                                                                                                                                                                                                                                                                                                                                                                                                                                                                    Borrower added on 12/22/11 > I need to upgrade my business technologies.<br>   \n",
       "1    Borrower added on 12/22/11 > I plan to use this money to finance the motorcycle i am looking at. I plan to have it paid off as soon as possible/when i sell my old bike. I only need this money because the deal im looking at is to good to pass up.<br><br>  Borrower added on 12/22/11 > I plan to use this money to finance the motorcycle i am looking at. I plan to have it paid off as soon as possible/when i sell my old bike.I only need this money because the deal im looking at is to good to pass up. I have finished college with an associates degree in business and its takingmeplaces<br>   \n",
       "2                                                                                                                                                                                                                                                                                                                                                                                                                                                                                                                                                                                                             NaN   \n",
       "\n",
       "          purpose                 title zip_code addr_state    dti  \\\n",
       "0     credit_card              Computer    860xx         AZ  27.65   \n",
       "1             car                  bike    309xx         GA   1.00   \n",
       "2  small_business  real estate business    606xx         IL   8.72   \n",
       "\n",
       "   delinq_2yrs earliest_cr_line  inq_last_6mths  mths_since_last_delinq  \\\n",
       "0            0           Jan-85               1                     NaN   \n",
       "1            0           Apr-99               5                     NaN   \n",
       "2            0           Nov-01               2                     NaN   \n",
       "\n",
       "   mths_since_last_record  open_acc  pub_rec  revol_bal revol_util  total_acc  \\\n",
       "0                     NaN         3        0      13648     83.70%          9   \n",
       "1                     NaN         3        0       1687      9.40%          4   \n",
       "2                     NaN         2        0       2956     98.50%         10   \n",
       "\n",
       "  initial_list_status  out_prncp  out_prncp_inv  total_pymnt  total_pymnt_inv  \\\n",
       "0                   f        0.0            0.0  5863.155187          5833.84   \n",
       "1                   f        0.0            0.0  1008.710000          1008.71   \n",
       "2                   f        0.0            0.0  3005.666844          3005.67   \n",
       "\n",
       "   total_rec_prncp  total_rec_int  total_rec_late_fee  recoveries  \\\n",
       "0          5000.00         863.16                 0.0        0.00   \n",
       "1           456.46         435.17                 0.0      117.08   \n",
       "2          2400.00         605.67                 0.0        0.00   \n",
       "\n",
       "   collection_recovery_fee last_pymnt_d  last_pymnt_amnt next_pymnt_d  \\\n",
       "0                     0.00       Jan-15           171.62          NaN   \n",
       "1                     1.11       Apr-13           119.66          NaN   \n",
       "2                     0.00       Jun-14           649.91          NaN   \n",
       "\n",
       "  last_credit_pull_d  collections_12_mths_ex_med  mths_since_last_major_derog  \\\n",
       "0             May-16                         0.0                          NaN   \n",
       "1             Sep-13                         0.0                          NaN   \n",
       "2             May-16                         0.0                          NaN   \n",
       "\n",
       "   policy_code application_type  annual_inc_joint  dti_joint  \\\n",
       "0            1       INDIVIDUAL               NaN        NaN   \n",
       "1            1       INDIVIDUAL               NaN        NaN   \n",
       "2            1       INDIVIDUAL               NaN        NaN   \n",
       "\n",
       "   verification_status_joint  acc_now_delinq  tot_coll_amt  tot_cur_bal  \\\n",
       "0                        NaN               0           NaN          NaN   \n",
       "1                        NaN               0           NaN          NaN   \n",
       "2                        NaN               0           NaN          NaN   \n",
       "\n",
       "   open_acc_6m  open_il_6m  open_il_12m  open_il_24m  mths_since_rcnt_il  \\\n",
       "0          NaN         NaN          NaN          NaN                 NaN   \n",
       "1          NaN         NaN          NaN          NaN                 NaN   \n",
       "2          NaN         NaN          NaN          NaN                 NaN   \n",
       "\n",
       "   total_bal_il  il_util  open_rv_12m  open_rv_24m  max_bal_bc  all_util  \\\n",
       "0           NaN      NaN          NaN          NaN         NaN       NaN   \n",
       "1           NaN      NaN          NaN          NaN         NaN       NaN   \n",
       "2           NaN      NaN          NaN          NaN         NaN       NaN   \n",
       "\n",
       "   total_rev_hi_lim  inq_fi  total_cu_tl  inq_last_12m  acc_open_past_24mths  \\\n",
       "0               NaN     NaN          NaN           NaN                   NaN   \n",
       "1               NaN     NaN          NaN           NaN                   NaN   \n",
       "2               NaN     NaN          NaN           NaN                   NaN   \n",
       "\n",
       "   avg_cur_bal  bc_open_to_buy  bc_util  chargeoff_within_12_mths  \\\n",
       "0          NaN             NaN      NaN                       0.0   \n",
       "1          NaN             NaN      NaN                       0.0   \n",
       "2          NaN             NaN      NaN                       0.0   \n",
       "\n",
       "   delinq_amnt  mo_sin_old_il_acct  mo_sin_old_rev_tl_op  \\\n",
       "0            0                 NaN                   NaN   \n",
       "1            0                 NaN                   NaN   \n",
       "2            0                 NaN                   NaN   \n",
       "\n",
       "   mo_sin_rcnt_rev_tl_op  mo_sin_rcnt_tl  mort_acc  mths_since_recent_bc  \\\n",
       "0                    NaN             NaN       NaN                   NaN   \n",
       "1                    NaN             NaN       NaN                   NaN   \n",
       "2                    NaN             NaN       NaN                   NaN   \n",
       "\n",
       "   mths_since_recent_bc_dlq  mths_since_recent_inq  \\\n",
       "0                       NaN                    NaN   \n",
       "1                       NaN                    NaN   \n",
       "2                       NaN                    NaN   \n",
       "\n",
       "   mths_since_recent_revol_delinq  num_accts_ever_120_pd  num_actv_bc_tl  \\\n",
       "0                             NaN                    NaN             NaN   \n",
       "1                             NaN                    NaN             NaN   \n",
       "2                             NaN                    NaN             NaN   \n",
       "\n",
       "   num_actv_rev_tl  num_bc_sats  num_bc_tl  num_il_tl  num_op_rev_tl  \\\n",
       "0              NaN          NaN        NaN        NaN            NaN   \n",
       "1              NaN          NaN        NaN        NaN            NaN   \n",
       "2              NaN          NaN        NaN        NaN            NaN   \n",
       "\n",
       "   num_rev_accts  num_rev_tl_bal_gt_0  num_sats  num_tl_120dpd_2m  \\\n",
       "0            NaN                  NaN       NaN               NaN   \n",
       "1            NaN                  NaN       NaN               NaN   \n",
       "2            NaN                  NaN       NaN               NaN   \n",
       "\n",
       "   num_tl_30dpd  num_tl_90g_dpd_24m  num_tl_op_past_12m  pct_tl_nvr_dlq  \\\n",
       "0           NaN                 NaN                 NaN             NaN   \n",
       "1           NaN                 NaN                 NaN             NaN   \n",
       "2           NaN                 NaN                 NaN             NaN   \n",
       "\n",
       "   percent_bc_gt_75  pub_rec_bankruptcies  tax_liens  tot_hi_cred_lim  \\\n",
       "0               NaN                   0.0        0.0              NaN   \n",
       "1               NaN                   0.0        0.0              NaN   \n",
       "2               NaN                   0.0        0.0              NaN   \n",
       "\n",
       "   total_bal_ex_mort  total_bc_limit  total_il_high_credit_limit  \n",
       "0                NaN             NaN                         NaN  \n",
       "1                NaN             NaN                         NaN  \n",
       "2                NaN             NaN                         NaN  "
      ]
     },
     "execution_count": 2,
     "metadata": {},
     "output_type": "execute_result"
    }
   ],
   "source": [
    "# skip row 1 so pandas can parse the data properly.\n",
    "loan = pd.read_csv('loan.csv',encoding = \"ISO-8859-1\", low_memory=False)\n",
    "loan.head(3)"
   ]
  },
  {
   "cell_type": "code",
   "execution_count": 3,
   "metadata": {},
   "outputs": [
    {
     "data": {
      "text/plain": [
       "(39717, 111)"
      ]
     },
     "execution_count": 3,
     "metadata": {},
     "output_type": "execute_result"
    }
   ],
   "source": [
    "loan.shape"
   ]
  },
  {
   "cell_type": "code",
   "execution_count": 4,
   "metadata": {},
   "outputs": [
    {
     "data": {
      "text/html": [
       "<div>\n",
       "<style scoped>\n",
       "    .dataframe tbody tr th:only-of-type {\n",
       "        vertical-align: middle;\n",
       "    }\n",
       "\n",
       "    .dataframe tbody tr th {\n",
       "        vertical-align: top;\n",
       "    }\n",
       "\n",
       "    .dataframe thead th {\n",
       "        text-align: right;\n",
       "    }\n",
       "</style>\n",
       "<table border=\"1\" class=\"dataframe\">\n",
       "  <thead>\n",
       "    <tr style=\"text-align: right;\">\n",
       "      <th></th>\n",
       "      <th>id</th>\n",
       "      <th>member_id</th>\n",
       "      <th>loan_amnt</th>\n",
       "      <th>funded_amnt</th>\n",
       "      <th>funded_amnt_inv</th>\n",
       "      <th>installment</th>\n",
       "      <th>annual_inc</th>\n",
       "      <th>dti</th>\n",
       "      <th>delinq_2yrs</th>\n",
       "      <th>inq_last_6mths</th>\n",
       "      <th>mths_since_last_delinq</th>\n",
       "      <th>mths_since_last_record</th>\n",
       "      <th>open_acc</th>\n",
       "      <th>pub_rec</th>\n",
       "      <th>revol_bal</th>\n",
       "      <th>total_acc</th>\n",
       "      <th>out_prncp</th>\n",
       "      <th>out_prncp_inv</th>\n",
       "      <th>total_pymnt</th>\n",
       "      <th>total_pymnt_inv</th>\n",
       "      <th>total_rec_prncp</th>\n",
       "      <th>total_rec_int</th>\n",
       "      <th>total_rec_late_fee</th>\n",
       "      <th>recoveries</th>\n",
       "      <th>collection_recovery_fee</th>\n",
       "      <th>last_pymnt_amnt</th>\n",
       "      <th>collections_12_mths_ex_med</th>\n",
       "      <th>mths_since_last_major_derog</th>\n",
       "      <th>policy_code</th>\n",
       "      <th>annual_inc_joint</th>\n",
       "      <th>dti_joint</th>\n",
       "      <th>verification_status_joint</th>\n",
       "      <th>acc_now_delinq</th>\n",
       "      <th>tot_coll_amt</th>\n",
       "      <th>tot_cur_bal</th>\n",
       "      <th>open_acc_6m</th>\n",
       "      <th>open_il_6m</th>\n",
       "      <th>open_il_12m</th>\n",
       "      <th>open_il_24m</th>\n",
       "      <th>mths_since_rcnt_il</th>\n",
       "      <th>total_bal_il</th>\n",
       "      <th>il_util</th>\n",
       "      <th>open_rv_12m</th>\n",
       "      <th>open_rv_24m</th>\n",
       "      <th>max_bal_bc</th>\n",
       "      <th>all_util</th>\n",
       "      <th>total_rev_hi_lim</th>\n",
       "      <th>inq_fi</th>\n",
       "      <th>total_cu_tl</th>\n",
       "      <th>inq_last_12m</th>\n",
       "      <th>acc_open_past_24mths</th>\n",
       "      <th>avg_cur_bal</th>\n",
       "      <th>bc_open_to_buy</th>\n",
       "      <th>bc_util</th>\n",
       "      <th>chargeoff_within_12_mths</th>\n",
       "      <th>delinq_amnt</th>\n",
       "      <th>mo_sin_old_il_acct</th>\n",
       "      <th>mo_sin_old_rev_tl_op</th>\n",
       "      <th>mo_sin_rcnt_rev_tl_op</th>\n",
       "      <th>mo_sin_rcnt_tl</th>\n",
       "      <th>mort_acc</th>\n",
       "      <th>mths_since_recent_bc</th>\n",
       "      <th>mths_since_recent_bc_dlq</th>\n",
       "      <th>mths_since_recent_inq</th>\n",
       "      <th>mths_since_recent_revol_delinq</th>\n",
       "      <th>num_accts_ever_120_pd</th>\n",
       "      <th>num_actv_bc_tl</th>\n",
       "      <th>num_actv_rev_tl</th>\n",
       "      <th>num_bc_sats</th>\n",
       "      <th>num_bc_tl</th>\n",
       "      <th>num_il_tl</th>\n",
       "      <th>num_op_rev_tl</th>\n",
       "      <th>num_rev_accts</th>\n",
       "      <th>num_rev_tl_bal_gt_0</th>\n",
       "      <th>num_sats</th>\n",
       "      <th>num_tl_120dpd_2m</th>\n",
       "      <th>num_tl_30dpd</th>\n",
       "      <th>num_tl_90g_dpd_24m</th>\n",
       "      <th>num_tl_op_past_12m</th>\n",
       "      <th>pct_tl_nvr_dlq</th>\n",
       "      <th>percent_bc_gt_75</th>\n",
       "      <th>pub_rec_bankruptcies</th>\n",
       "      <th>tax_liens</th>\n",
       "      <th>tot_hi_cred_lim</th>\n",
       "      <th>total_bal_ex_mort</th>\n",
       "      <th>total_bc_limit</th>\n",
       "      <th>total_il_high_credit_limit</th>\n",
       "    </tr>\n",
       "  </thead>\n",
       "  <tbody>\n",
       "    <tr>\n",
       "      <td>count</td>\n",
       "      <td>3.971700e+04</td>\n",
       "      <td>3.971700e+04</td>\n",
       "      <td>39717.000000</td>\n",
       "      <td>39717.000000</td>\n",
       "      <td>39717.000000</td>\n",
       "      <td>39717.000000</td>\n",
       "      <td>3.971700e+04</td>\n",
       "      <td>39717.000000</td>\n",
       "      <td>39717.000000</td>\n",
       "      <td>39717.000000</td>\n",
       "      <td>14035.000000</td>\n",
       "      <td>2786.000000</td>\n",
       "      <td>39717.000000</td>\n",
       "      <td>39717.000000</td>\n",
       "      <td>39717.000000</td>\n",
       "      <td>39717.000000</td>\n",
       "      <td>39717.000000</td>\n",
       "      <td>39717.000000</td>\n",
       "      <td>39717.000000</td>\n",
       "      <td>39717.000000</td>\n",
       "      <td>39717.000000</td>\n",
       "      <td>39717.000000</td>\n",
       "      <td>39717.000000</td>\n",
       "      <td>39717.000000</td>\n",
       "      <td>39717.000000</td>\n",
       "      <td>39717.000000</td>\n",
       "      <td>39661.0</td>\n",
       "      <td>0.0</td>\n",
       "      <td>39717.0</td>\n",
       "      <td>0.0</td>\n",
       "      <td>0.0</td>\n",
       "      <td>0.0</td>\n",
       "      <td>39717.0</td>\n",
       "      <td>0.0</td>\n",
       "      <td>0.0</td>\n",
       "      <td>0.0</td>\n",
       "      <td>0.0</td>\n",
       "      <td>0.0</td>\n",
       "      <td>0.0</td>\n",
       "      <td>0.0</td>\n",
       "      <td>0.0</td>\n",
       "      <td>0.0</td>\n",
       "      <td>0.0</td>\n",
       "      <td>0.0</td>\n",
       "      <td>0.0</td>\n",
       "      <td>0.0</td>\n",
       "      <td>0.0</td>\n",
       "      <td>0.0</td>\n",
       "      <td>0.0</td>\n",
       "      <td>0.0</td>\n",
       "      <td>0.0</td>\n",
       "      <td>0.0</td>\n",
       "      <td>0.0</td>\n",
       "      <td>0.0</td>\n",
       "      <td>39661.0</td>\n",
       "      <td>39717.0</td>\n",
       "      <td>0.0</td>\n",
       "      <td>0.0</td>\n",
       "      <td>0.0</td>\n",
       "      <td>0.0</td>\n",
       "      <td>0.0</td>\n",
       "      <td>0.0</td>\n",
       "      <td>0.0</td>\n",
       "      <td>0.0</td>\n",
       "      <td>0.0</td>\n",
       "      <td>0.0</td>\n",
       "      <td>0.0</td>\n",
       "      <td>0.0</td>\n",
       "      <td>0.0</td>\n",
       "      <td>0.0</td>\n",
       "      <td>0.0</td>\n",
       "      <td>0.0</td>\n",
       "      <td>0.0</td>\n",
       "      <td>0.0</td>\n",
       "      <td>0.0</td>\n",
       "      <td>0.0</td>\n",
       "      <td>0.0</td>\n",
       "      <td>0.0</td>\n",
       "      <td>0.0</td>\n",
       "      <td>0.0</td>\n",
       "      <td>0.0</td>\n",
       "      <td>39020.000000</td>\n",
       "      <td>39678.0</td>\n",
       "      <td>0.0</td>\n",
       "      <td>0.0</td>\n",
       "      <td>0.0</td>\n",
       "      <td>0.0</td>\n",
       "    </tr>\n",
       "    <tr>\n",
       "      <td>mean</td>\n",
       "      <td>6.831319e+05</td>\n",
       "      <td>8.504636e+05</td>\n",
       "      <td>11219.443815</td>\n",
       "      <td>10947.713196</td>\n",
       "      <td>10397.448868</td>\n",
       "      <td>324.561922</td>\n",
       "      <td>6.896893e+04</td>\n",
       "      <td>13.315130</td>\n",
       "      <td>0.146512</td>\n",
       "      <td>0.869200</td>\n",
       "      <td>35.900962</td>\n",
       "      <td>69.698134</td>\n",
       "      <td>9.294408</td>\n",
       "      <td>0.055065</td>\n",
       "      <td>13382.528086</td>\n",
       "      <td>22.088828</td>\n",
       "      <td>51.227887</td>\n",
       "      <td>50.989768</td>\n",
       "      <td>12153.596544</td>\n",
       "      <td>11567.149118</td>\n",
       "      <td>9793.348813</td>\n",
       "      <td>2263.663172</td>\n",
       "      <td>1.363015</td>\n",
       "      <td>95.221624</td>\n",
       "      <td>12.406112</td>\n",
       "      <td>2678.826162</td>\n",
       "      <td>0.0</td>\n",
       "      <td>NaN</td>\n",
       "      <td>1.0</td>\n",
       "      <td>NaN</td>\n",
       "      <td>NaN</td>\n",
       "      <td>NaN</td>\n",
       "      <td>0.0</td>\n",
       "      <td>NaN</td>\n",
       "      <td>NaN</td>\n",
       "      <td>NaN</td>\n",
       "      <td>NaN</td>\n",
       "      <td>NaN</td>\n",
       "      <td>NaN</td>\n",
       "      <td>NaN</td>\n",
       "      <td>NaN</td>\n",
       "      <td>NaN</td>\n",
       "      <td>NaN</td>\n",
       "      <td>NaN</td>\n",
       "      <td>NaN</td>\n",
       "      <td>NaN</td>\n",
       "      <td>NaN</td>\n",
       "      <td>NaN</td>\n",
       "      <td>NaN</td>\n",
       "      <td>NaN</td>\n",
       "      <td>NaN</td>\n",
       "      <td>NaN</td>\n",
       "      <td>NaN</td>\n",
       "      <td>NaN</td>\n",
       "      <td>0.0</td>\n",
       "      <td>0.0</td>\n",
       "      <td>NaN</td>\n",
       "      <td>NaN</td>\n",
       "      <td>NaN</td>\n",
       "      <td>NaN</td>\n",
       "      <td>NaN</td>\n",
       "      <td>NaN</td>\n",
       "      <td>NaN</td>\n",
       "      <td>NaN</td>\n",
       "      <td>NaN</td>\n",
       "      <td>NaN</td>\n",
       "      <td>NaN</td>\n",
       "      <td>NaN</td>\n",
       "      <td>NaN</td>\n",
       "      <td>NaN</td>\n",
       "      <td>NaN</td>\n",
       "      <td>NaN</td>\n",
       "      <td>NaN</td>\n",
       "      <td>NaN</td>\n",
       "      <td>NaN</td>\n",
       "      <td>NaN</td>\n",
       "      <td>NaN</td>\n",
       "      <td>NaN</td>\n",
       "      <td>NaN</td>\n",
       "      <td>NaN</td>\n",
       "      <td>NaN</td>\n",
       "      <td>0.043260</td>\n",
       "      <td>0.0</td>\n",
       "      <td>NaN</td>\n",
       "      <td>NaN</td>\n",
       "      <td>NaN</td>\n",
       "      <td>NaN</td>\n",
       "    </tr>\n",
       "    <tr>\n",
       "      <td>std</td>\n",
       "      <td>2.106941e+05</td>\n",
       "      <td>2.656783e+05</td>\n",
       "      <td>7456.670694</td>\n",
       "      <td>7187.238670</td>\n",
       "      <td>7128.450439</td>\n",
       "      <td>208.874874</td>\n",
       "      <td>6.379377e+04</td>\n",
       "      <td>6.678594</td>\n",
       "      <td>0.491812</td>\n",
       "      <td>1.070219</td>\n",
       "      <td>22.020060</td>\n",
       "      <td>43.822529</td>\n",
       "      <td>4.400282</td>\n",
       "      <td>0.237200</td>\n",
       "      <td>15885.016641</td>\n",
       "      <td>11.401709</td>\n",
       "      <td>375.172839</td>\n",
       "      <td>373.824457</td>\n",
       "      <td>9042.040766</td>\n",
       "      <td>8942.672613</td>\n",
       "      <td>7065.522127</td>\n",
       "      <td>2608.111964</td>\n",
       "      <td>7.289979</td>\n",
       "      <td>688.744771</td>\n",
       "      <td>148.671593</td>\n",
       "      <td>4447.136012</td>\n",
       "      <td>0.0</td>\n",
       "      <td>NaN</td>\n",
       "      <td>0.0</td>\n",
       "      <td>NaN</td>\n",
       "      <td>NaN</td>\n",
       "      <td>NaN</td>\n",
       "      <td>0.0</td>\n",
       "      <td>NaN</td>\n",
       "      <td>NaN</td>\n",
       "      <td>NaN</td>\n",
       "      <td>NaN</td>\n",
       "      <td>NaN</td>\n",
       "      <td>NaN</td>\n",
       "      <td>NaN</td>\n",
       "      <td>NaN</td>\n",
       "      <td>NaN</td>\n",
       "      <td>NaN</td>\n",
       "      <td>NaN</td>\n",
       "      <td>NaN</td>\n",
       "      <td>NaN</td>\n",
       "      <td>NaN</td>\n",
       "      <td>NaN</td>\n",
       "      <td>NaN</td>\n",
       "      <td>NaN</td>\n",
       "      <td>NaN</td>\n",
       "      <td>NaN</td>\n",
       "      <td>NaN</td>\n",
       "      <td>NaN</td>\n",
       "      <td>0.0</td>\n",
       "      <td>0.0</td>\n",
       "      <td>NaN</td>\n",
       "      <td>NaN</td>\n",
       "      <td>NaN</td>\n",
       "      <td>NaN</td>\n",
       "      <td>NaN</td>\n",
       "      <td>NaN</td>\n",
       "      <td>NaN</td>\n",
       "      <td>NaN</td>\n",
       "      <td>NaN</td>\n",
       "      <td>NaN</td>\n",
       "      <td>NaN</td>\n",
       "      <td>NaN</td>\n",
       "      <td>NaN</td>\n",
       "      <td>NaN</td>\n",
       "      <td>NaN</td>\n",
       "      <td>NaN</td>\n",
       "      <td>NaN</td>\n",
       "      <td>NaN</td>\n",
       "      <td>NaN</td>\n",
       "      <td>NaN</td>\n",
       "      <td>NaN</td>\n",
       "      <td>NaN</td>\n",
       "      <td>NaN</td>\n",
       "      <td>NaN</td>\n",
       "      <td>NaN</td>\n",
       "      <td>0.204324</td>\n",
       "      <td>0.0</td>\n",
       "      <td>NaN</td>\n",
       "      <td>NaN</td>\n",
       "      <td>NaN</td>\n",
       "      <td>NaN</td>\n",
       "    </tr>\n",
       "    <tr>\n",
       "      <td>min</td>\n",
       "      <td>5.473400e+04</td>\n",
       "      <td>7.069900e+04</td>\n",
       "      <td>500.000000</td>\n",
       "      <td>500.000000</td>\n",
       "      <td>0.000000</td>\n",
       "      <td>15.690000</td>\n",
       "      <td>4.000000e+03</td>\n",
       "      <td>0.000000</td>\n",
       "      <td>0.000000</td>\n",
       "      <td>0.000000</td>\n",
       "      <td>0.000000</td>\n",
       "      <td>0.000000</td>\n",
       "      <td>2.000000</td>\n",
       "      <td>0.000000</td>\n",
       "      <td>0.000000</td>\n",
       "      <td>2.000000</td>\n",
       "      <td>0.000000</td>\n",
       "      <td>0.000000</td>\n",
       "      <td>0.000000</td>\n",
       "      <td>0.000000</td>\n",
       "      <td>0.000000</td>\n",
       "      <td>0.000000</td>\n",
       "      <td>0.000000</td>\n",
       "      <td>0.000000</td>\n",
       "      <td>0.000000</td>\n",
       "      <td>0.000000</td>\n",
       "      <td>0.0</td>\n",
       "      <td>NaN</td>\n",
       "      <td>1.0</td>\n",
       "      <td>NaN</td>\n",
       "      <td>NaN</td>\n",
       "      <td>NaN</td>\n",
       "      <td>0.0</td>\n",
       "      <td>NaN</td>\n",
       "      <td>NaN</td>\n",
       "      <td>NaN</td>\n",
       "      <td>NaN</td>\n",
       "      <td>NaN</td>\n",
       "      <td>NaN</td>\n",
       "      <td>NaN</td>\n",
       "      <td>NaN</td>\n",
       "      <td>NaN</td>\n",
       "      <td>NaN</td>\n",
       "      <td>NaN</td>\n",
       "      <td>NaN</td>\n",
       "      <td>NaN</td>\n",
       "      <td>NaN</td>\n",
       "      <td>NaN</td>\n",
       "      <td>NaN</td>\n",
       "      <td>NaN</td>\n",
       "      <td>NaN</td>\n",
       "      <td>NaN</td>\n",
       "      <td>NaN</td>\n",
       "      <td>NaN</td>\n",
       "      <td>0.0</td>\n",
       "      <td>0.0</td>\n",
       "      <td>NaN</td>\n",
       "      <td>NaN</td>\n",
       "      <td>NaN</td>\n",
       "      <td>NaN</td>\n",
       "      <td>NaN</td>\n",
       "      <td>NaN</td>\n",
       "      <td>NaN</td>\n",
       "      <td>NaN</td>\n",
       "      <td>NaN</td>\n",
       "      <td>NaN</td>\n",
       "      <td>NaN</td>\n",
       "      <td>NaN</td>\n",
       "      <td>NaN</td>\n",
       "      <td>NaN</td>\n",
       "      <td>NaN</td>\n",
       "      <td>NaN</td>\n",
       "      <td>NaN</td>\n",
       "      <td>NaN</td>\n",
       "      <td>NaN</td>\n",
       "      <td>NaN</td>\n",
       "      <td>NaN</td>\n",
       "      <td>NaN</td>\n",
       "      <td>NaN</td>\n",
       "      <td>NaN</td>\n",
       "      <td>NaN</td>\n",
       "      <td>0.000000</td>\n",
       "      <td>0.0</td>\n",
       "      <td>NaN</td>\n",
       "      <td>NaN</td>\n",
       "      <td>NaN</td>\n",
       "      <td>NaN</td>\n",
       "    </tr>\n",
       "    <tr>\n",
       "      <td>25%</td>\n",
       "      <td>5.162210e+05</td>\n",
       "      <td>6.667800e+05</td>\n",
       "      <td>5500.000000</td>\n",
       "      <td>5400.000000</td>\n",
       "      <td>5000.000000</td>\n",
       "      <td>167.020000</td>\n",
       "      <td>4.040400e+04</td>\n",
       "      <td>8.170000</td>\n",
       "      <td>0.000000</td>\n",
       "      <td>0.000000</td>\n",
       "      <td>18.000000</td>\n",
       "      <td>22.000000</td>\n",
       "      <td>6.000000</td>\n",
       "      <td>0.000000</td>\n",
       "      <td>3703.000000</td>\n",
       "      <td>13.000000</td>\n",
       "      <td>0.000000</td>\n",
       "      <td>0.000000</td>\n",
       "      <td>5576.930000</td>\n",
       "      <td>5112.310000</td>\n",
       "      <td>4600.000000</td>\n",
       "      <td>662.180000</td>\n",
       "      <td>0.000000</td>\n",
       "      <td>0.000000</td>\n",
       "      <td>0.000000</td>\n",
       "      <td>218.680000</td>\n",
       "      <td>0.0</td>\n",
       "      <td>NaN</td>\n",
       "      <td>1.0</td>\n",
       "      <td>NaN</td>\n",
       "      <td>NaN</td>\n",
       "      <td>NaN</td>\n",
       "      <td>0.0</td>\n",
       "      <td>NaN</td>\n",
       "      <td>NaN</td>\n",
       "      <td>NaN</td>\n",
       "      <td>NaN</td>\n",
       "      <td>NaN</td>\n",
       "      <td>NaN</td>\n",
       "      <td>NaN</td>\n",
       "      <td>NaN</td>\n",
       "      <td>NaN</td>\n",
       "      <td>NaN</td>\n",
       "      <td>NaN</td>\n",
       "      <td>NaN</td>\n",
       "      <td>NaN</td>\n",
       "      <td>NaN</td>\n",
       "      <td>NaN</td>\n",
       "      <td>NaN</td>\n",
       "      <td>NaN</td>\n",
       "      <td>NaN</td>\n",
       "      <td>NaN</td>\n",
       "      <td>NaN</td>\n",
       "      <td>NaN</td>\n",
       "      <td>0.0</td>\n",
       "      <td>0.0</td>\n",
       "      <td>NaN</td>\n",
       "      <td>NaN</td>\n",
       "      <td>NaN</td>\n",
       "      <td>NaN</td>\n",
       "      <td>NaN</td>\n",
       "      <td>NaN</td>\n",
       "      <td>NaN</td>\n",
       "      <td>NaN</td>\n",
       "      <td>NaN</td>\n",
       "      <td>NaN</td>\n",
       "      <td>NaN</td>\n",
       "      <td>NaN</td>\n",
       "      <td>NaN</td>\n",
       "      <td>NaN</td>\n",
       "      <td>NaN</td>\n",
       "      <td>NaN</td>\n",
       "      <td>NaN</td>\n",
       "      <td>NaN</td>\n",
       "      <td>NaN</td>\n",
       "      <td>NaN</td>\n",
       "      <td>NaN</td>\n",
       "      <td>NaN</td>\n",
       "      <td>NaN</td>\n",
       "      <td>NaN</td>\n",
       "      <td>NaN</td>\n",
       "      <td>0.000000</td>\n",
       "      <td>0.0</td>\n",
       "      <td>NaN</td>\n",
       "      <td>NaN</td>\n",
       "      <td>NaN</td>\n",
       "      <td>NaN</td>\n",
       "    </tr>\n",
       "    <tr>\n",
       "      <td>50%</td>\n",
       "      <td>6.656650e+05</td>\n",
       "      <td>8.508120e+05</td>\n",
       "      <td>10000.000000</td>\n",
       "      <td>9600.000000</td>\n",
       "      <td>8975.000000</td>\n",
       "      <td>280.220000</td>\n",
       "      <td>5.900000e+04</td>\n",
       "      <td>13.400000</td>\n",
       "      <td>0.000000</td>\n",
       "      <td>1.000000</td>\n",
       "      <td>34.000000</td>\n",
       "      <td>90.000000</td>\n",
       "      <td>9.000000</td>\n",
       "      <td>0.000000</td>\n",
       "      <td>8850.000000</td>\n",
       "      <td>20.000000</td>\n",
       "      <td>0.000000</td>\n",
       "      <td>0.000000</td>\n",
       "      <td>9899.640319</td>\n",
       "      <td>9287.150000</td>\n",
       "      <td>8000.000000</td>\n",
       "      <td>1348.910000</td>\n",
       "      <td>0.000000</td>\n",
       "      <td>0.000000</td>\n",
       "      <td>0.000000</td>\n",
       "      <td>546.140000</td>\n",
       "      <td>0.0</td>\n",
       "      <td>NaN</td>\n",
       "      <td>1.0</td>\n",
       "      <td>NaN</td>\n",
       "      <td>NaN</td>\n",
       "      <td>NaN</td>\n",
       "      <td>0.0</td>\n",
       "      <td>NaN</td>\n",
       "      <td>NaN</td>\n",
       "      <td>NaN</td>\n",
       "      <td>NaN</td>\n",
       "      <td>NaN</td>\n",
       "      <td>NaN</td>\n",
       "      <td>NaN</td>\n",
       "      <td>NaN</td>\n",
       "      <td>NaN</td>\n",
       "      <td>NaN</td>\n",
       "      <td>NaN</td>\n",
       "      <td>NaN</td>\n",
       "      <td>NaN</td>\n",
       "      <td>NaN</td>\n",
       "      <td>NaN</td>\n",
       "      <td>NaN</td>\n",
       "      <td>NaN</td>\n",
       "      <td>NaN</td>\n",
       "      <td>NaN</td>\n",
       "      <td>NaN</td>\n",
       "      <td>NaN</td>\n",
       "      <td>0.0</td>\n",
       "      <td>0.0</td>\n",
       "      <td>NaN</td>\n",
       "      <td>NaN</td>\n",
       "      <td>NaN</td>\n",
       "      <td>NaN</td>\n",
       "      <td>NaN</td>\n",
       "      <td>NaN</td>\n",
       "      <td>NaN</td>\n",
       "      <td>NaN</td>\n",
       "      <td>NaN</td>\n",
       "      <td>NaN</td>\n",
       "      <td>NaN</td>\n",
       "      <td>NaN</td>\n",
       "      <td>NaN</td>\n",
       "      <td>NaN</td>\n",
       "      <td>NaN</td>\n",
       "      <td>NaN</td>\n",
       "      <td>NaN</td>\n",
       "      <td>NaN</td>\n",
       "      <td>NaN</td>\n",
       "      <td>NaN</td>\n",
       "      <td>NaN</td>\n",
       "      <td>NaN</td>\n",
       "      <td>NaN</td>\n",
       "      <td>NaN</td>\n",
       "      <td>NaN</td>\n",
       "      <td>0.000000</td>\n",
       "      <td>0.0</td>\n",
       "      <td>NaN</td>\n",
       "      <td>NaN</td>\n",
       "      <td>NaN</td>\n",
       "      <td>NaN</td>\n",
       "    </tr>\n",
       "    <tr>\n",
       "      <td>75%</td>\n",
       "      <td>8.377550e+05</td>\n",
       "      <td>1.047339e+06</td>\n",
       "      <td>15000.000000</td>\n",
       "      <td>15000.000000</td>\n",
       "      <td>14400.000000</td>\n",
       "      <td>430.780000</td>\n",
       "      <td>8.230000e+04</td>\n",
       "      <td>18.600000</td>\n",
       "      <td>0.000000</td>\n",
       "      <td>1.000000</td>\n",
       "      <td>52.000000</td>\n",
       "      <td>104.000000</td>\n",
       "      <td>12.000000</td>\n",
       "      <td>0.000000</td>\n",
       "      <td>17058.000000</td>\n",
       "      <td>29.000000</td>\n",
       "      <td>0.000000</td>\n",
       "      <td>0.000000</td>\n",
       "      <td>16534.433040</td>\n",
       "      <td>15798.810000</td>\n",
       "      <td>13653.260000</td>\n",
       "      <td>2833.400000</td>\n",
       "      <td>0.000000</td>\n",
       "      <td>0.000000</td>\n",
       "      <td>0.000000</td>\n",
       "      <td>3293.160000</td>\n",
       "      <td>0.0</td>\n",
       "      <td>NaN</td>\n",
       "      <td>1.0</td>\n",
       "      <td>NaN</td>\n",
       "      <td>NaN</td>\n",
       "      <td>NaN</td>\n",
       "      <td>0.0</td>\n",
       "      <td>NaN</td>\n",
       "      <td>NaN</td>\n",
       "      <td>NaN</td>\n",
       "      <td>NaN</td>\n",
       "      <td>NaN</td>\n",
       "      <td>NaN</td>\n",
       "      <td>NaN</td>\n",
       "      <td>NaN</td>\n",
       "      <td>NaN</td>\n",
       "      <td>NaN</td>\n",
       "      <td>NaN</td>\n",
       "      <td>NaN</td>\n",
       "      <td>NaN</td>\n",
       "      <td>NaN</td>\n",
       "      <td>NaN</td>\n",
       "      <td>NaN</td>\n",
       "      <td>NaN</td>\n",
       "      <td>NaN</td>\n",
       "      <td>NaN</td>\n",
       "      <td>NaN</td>\n",
       "      <td>NaN</td>\n",
       "      <td>0.0</td>\n",
       "      <td>0.0</td>\n",
       "      <td>NaN</td>\n",
       "      <td>NaN</td>\n",
       "      <td>NaN</td>\n",
       "      <td>NaN</td>\n",
       "      <td>NaN</td>\n",
       "      <td>NaN</td>\n",
       "      <td>NaN</td>\n",
       "      <td>NaN</td>\n",
       "      <td>NaN</td>\n",
       "      <td>NaN</td>\n",
       "      <td>NaN</td>\n",
       "      <td>NaN</td>\n",
       "      <td>NaN</td>\n",
       "      <td>NaN</td>\n",
       "      <td>NaN</td>\n",
       "      <td>NaN</td>\n",
       "      <td>NaN</td>\n",
       "      <td>NaN</td>\n",
       "      <td>NaN</td>\n",
       "      <td>NaN</td>\n",
       "      <td>NaN</td>\n",
       "      <td>NaN</td>\n",
       "      <td>NaN</td>\n",
       "      <td>NaN</td>\n",
       "      <td>NaN</td>\n",
       "      <td>0.000000</td>\n",
       "      <td>0.0</td>\n",
       "      <td>NaN</td>\n",
       "      <td>NaN</td>\n",
       "      <td>NaN</td>\n",
       "      <td>NaN</td>\n",
       "    </tr>\n",
       "    <tr>\n",
       "      <td>max</td>\n",
       "      <td>1.077501e+06</td>\n",
       "      <td>1.314167e+06</td>\n",
       "      <td>35000.000000</td>\n",
       "      <td>35000.000000</td>\n",
       "      <td>35000.000000</td>\n",
       "      <td>1305.190000</td>\n",
       "      <td>6.000000e+06</td>\n",
       "      <td>29.990000</td>\n",
       "      <td>11.000000</td>\n",
       "      <td>8.000000</td>\n",
       "      <td>120.000000</td>\n",
       "      <td>129.000000</td>\n",
       "      <td>44.000000</td>\n",
       "      <td>4.000000</td>\n",
       "      <td>149588.000000</td>\n",
       "      <td>90.000000</td>\n",
       "      <td>6311.470000</td>\n",
       "      <td>6307.370000</td>\n",
       "      <td>58563.679930</td>\n",
       "      <td>58563.680000</td>\n",
       "      <td>35000.020000</td>\n",
       "      <td>23563.680000</td>\n",
       "      <td>180.200000</td>\n",
       "      <td>29623.350000</td>\n",
       "      <td>7002.190000</td>\n",
       "      <td>36115.200000</td>\n",
       "      <td>0.0</td>\n",
       "      <td>NaN</td>\n",
       "      <td>1.0</td>\n",
       "      <td>NaN</td>\n",
       "      <td>NaN</td>\n",
       "      <td>NaN</td>\n",
       "      <td>0.0</td>\n",
       "      <td>NaN</td>\n",
       "      <td>NaN</td>\n",
       "      <td>NaN</td>\n",
       "      <td>NaN</td>\n",
       "      <td>NaN</td>\n",
       "      <td>NaN</td>\n",
       "      <td>NaN</td>\n",
       "      <td>NaN</td>\n",
       "      <td>NaN</td>\n",
       "      <td>NaN</td>\n",
       "      <td>NaN</td>\n",
       "      <td>NaN</td>\n",
       "      <td>NaN</td>\n",
       "      <td>NaN</td>\n",
       "      <td>NaN</td>\n",
       "      <td>NaN</td>\n",
       "      <td>NaN</td>\n",
       "      <td>NaN</td>\n",
       "      <td>NaN</td>\n",
       "      <td>NaN</td>\n",
       "      <td>NaN</td>\n",
       "      <td>0.0</td>\n",
       "      <td>0.0</td>\n",
       "      <td>NaN</td>\n",
       "      <td>NaN</td>\n",
       "      <td>NaN</td>\n",
       "      <td>NaN</td>\n",
       "      <td>NaN</td>\n",
       "      <td>NaN</td>\n",
       "      <td>NaN</td>\n",
       "      <td>NaN</td>\n",
       "      <td>NaN</td>\n",
       "      <td>NaN</td>\n",
       "      <td>NaN</td>\n",
       "      <td>NaN</td>\n",
       "      <td>NaN</td>\n",
       "      <td>NaN</td>\n",
       "      <td>NaN</td>\n",
       "      <td>NaN</td>\n",
       "      <td>NaN</td>\n",
       "      <td>NaN</td>\n",
       "      <td>NaN</td>\n",
       "      <td>NaN</td>\n",
       "      <td>NaN</td>\n",
       "      <td>NaN</td>\n",
       "      <td>NaN</td>\n",
       "      <td>NaN</td>\n",
       "      <td>NaN</td>\n",
       "      <td>2.000000</td>\n",
       "      <td>0.0</td>\n",
       "      <td>NaN</td>\n",
       "      <td>NaN</td>\n",
       "      <td>NaN</td>\n",
       "      <td>NaN</td>\n",
       "    </tr>\n",
       "  </tbody>\n",
       "</table>\n",
       "</div>"
      ],
      "text/plain": [
       "                 id     member_id     loan_amnt   funded_amnt  \\\n",
       "count  3.971700e+04  3.971700e+04  39717.000000  39717.000000   \n",
       "mean   6.831319e+05  8.504636e+05  11219.443815  10947.713196   \n",
       "std    2.106941e+05  2.656783e+05   7456.670694   7187.238670   \n",
       "min    5.473400e+04  7.069900e+04    500.000000    500.000000   \n",
       "25%    5.162210e+05  6.667800e+05   5500.000000   5400.000000   \n",
       "50%    6.656650e+05  8.508120e+05  10000.000000   9600.000000   \n",
       "75%    8.377550e+05  1.047339e+06  15000.000000  15000.000000   \n",
       "max    1.077501e+06  1.314167e+06  35000.000000  35000.000000   \n",
       "\n",
       "       funded_amnt_inv   installment    annual_inc           dti  \\\n",
       "count     39717.000000  39717.000000  3.971700e+04  39717.000000   \n",
       "mean      10397.448868    324.561922  6.896893e+04     13.315130   \n",
       "std        7128.450439    208.874874  6.379377e+04      6.678594   \n",
       "min           0.000000     15.690000  4.000000e+03      0.000000   \n",
       "25%        5000.000000    167.020000  4.040400e+04      8.170000   \n",
       "50%        8975.000000    280.220000  5.900000e+04     13.400000   \n",
       "75%       14400.000000    430.780000  8.230000e+04     18.600000   \n",
       "max       35000.000000   1305.190000  6.000000e+06     29.990000   \n",
       "\n",
       "        delinq_2yrs  inq_last_6mths  mths_since_last_delinq  \\\n",
       "count  39717.000000    39717.000000            14035.000000   \n",
       "mean       0.146512        0.869200               35.900962   \n",
       "std        0.491812        1.070219               22.020060   \n",
       "min        0.000000        0.000000                0.000000   \n",
       "25%        0.000000        0.000000               18.000000   \n",
       "50%        0.000000        1.000000               34.000000   \n",
       "75%        0.000000        1.000000               52.000000   \n",
       "max       11.000000        8.000000              120.000000   \n",
       "\n",
       "       mths_since_last_record      open_acc       pub_rec      revol_bal  \\\n",
       "count             2786.000000  39717.000000  39717.000000   39717.000000   \n",
       "mean                69.698134      9.294408      0.055065   13382.528086   \n",
       "std                 43.822529      4.400282      0.237200   15885.016641   \n",
       "min                  0.000000      2.000000      0.000000       0.000000   \n",
       "25%                 22.000000      6.000000      0.000000    3703.000000   \n",
       "50%                 90.000000      9.000000      0.000000    8850.000000   \n",
       "75%                104.000000     12.000000      0.000000   17058.000000   \n",
       "max                129.000000     44.000000      4.000000  149588.000000   \n",
       "\n",
       "          total_acc     out_prncp  out_prncp_inv   total_pymnt  \\\n",
       "count  39717.000000  39717.000000   39717.000000  39717.000000   \n",
       "mean      22.088828     51.227887      50.989768  12153.596544   \n",
       "std       11.401709    375.172839     373.824457   9042.040766   \n",
       "min        2.000000      0.000000       0.000000      0.000000   \n",
       "25%       13.000000      0.000000       0.000000   5576.930000   \n",
       "50%       20.000000      0.000000       0.000000   9899.640319   \n",
       "75%       29.000000      0.000000       0.000000  16534.433040   \n",
       "max       90.000000   6311.470000    6307.370000  58563.679930   \n",
       "\n",
       "       total_pymnt_inv  total_rec_prncp  total_rec_int  total_rec_late_fee  \\\n",
       "count     39717.000000     39717.000000   39717.000000        39717.000000   \n",
       "mean      11567.149118      9793.348813    2263.663172            1.363015   \n",
       "std        8942.672613      7065.522127    2608.111964            7.289979   \n",
       "min           0.000000         0.000000       0.000000            0.000000   \n",
       "25%        5112.310000      4600.000000     662.180000            0.000000   \n",
       "50%        9287.150000      8000.000000    1348.910000            0.000000   \n",
       "75%       15798.810000     13653.260000    2833.400000            0.000000   \n",
       "max       58563.680000     35000.020000   23563.680000          180.200000   \n",
       "\n",
       "         recoveries  collection_recovery_fee  last_pymnt_amnt  \\\n",
       "count  39717.000000             39717.000000     39717.000000   \n",
       "mean      95.221624                12.406112      2678.826162   \n",
       "std      688.744771               148.671593      4447.136012   \n",
       "min        0.000000                 0.000000         0.000000   \n",
       "25%        0.000000                 0.000000       218.680000   \n",
       "50%        0.000000                 0.000000       546.140000   \n",
       "75%        0.000000                 0.000000      3293.160000   \n",
       "max    29623.350000              7002.190000     36115.200000   \n",
       "\n",
       "       collections_12_mths_ex_med  mths_since_last_major_derog  policy_code  \\\n",
       "count                     39661.0                          0.0      39717.0   \n",
       "mean                          0.0                          NaN          1.0   \n",
       "std                           0.0                          NaN          0.0   \n",
       "min                           0.0                          NaN          1.0   \n",
       "25%                           0.0                          NaN          1.0   \n",
       "50%                           0.0                          NaN          1.0   \n",
       "75%                           0.0                          NaN          1.0   \n",
       "max                           0.0                          NaN          1.0   \n",
       "\n",
       "       annual_inc_joint  dti_joint  verification_status_joint  acc_now_delinq  \\\n",
       "count               0.0        0.0                        0.0         39717.0   \n",
       "mean                NaN        NaN                        NaN             0.0   \n",
       "std                 NaN        NaN                        NaN             0.0   \n",
       "min                 NaN        NaN                        NaN             0.0   \n",
       "25%                 NaN        NaN                        NaN             0.0   \n",
       "50%                 NaN        NaN                        NaN             0.0   \n",
       "75%                 NaN        NaN                        NaN             0.0   \n",
       "max                 NaN        NaN                        NaN             0.0   \n",
       "\n",
       "       tot_coll_amt  tot_cur_bal  open_acc_6m  open_il_6m  open_il_12m  \\\n",
       "count           0.0          0.0          0.0         0.0          0.0   \n",
       "mean            NaN          NaN          NaN         NaN          NaN   \n",
       "std             NaN          NaN          NaN         NaN          NaN   \n",
       "min             NaN          NaN          NaN         NaN          NaN   \n",
       "25%             NaN          NaN          NaN         NaN          NaN   \n",
       "50%             NaN          NaN          NaN         NaN          NaN   \n",
       "75%             NaN          NaN          NaN         NaN          NaN   \n",
       "max             NaN          NaN          NaN         NaN          NaN   \n",
       "\n",
       "       open_il_24m  mths_since_rcnt_il  total_bal_il  il_util  open_rv_12m  \\\n",
       "count          0.0                 0.0           0.0      0.0          0.0   \n",
       "mean           NaN                 NaN           NaN      NaN          NaN   \n",
       "std            NaN                 NaN           NaN      NaN          NaN   \n",
       "min            NaN                 NaN           NaN      NaN          NaN   \n",
       "25%            NaN                 NaN           NaN      NaN          NaN   \n",
       "50%            NaN                 NaN           NaN      NaN          NaN   \n",
       "75%            NaN                 NaN           NaN      NaN          NaN   \n",
       "max            NaN                 NaN           NaN      NaN          NaN   \n",
       "\n",
       "       open_rv_24m  max_bal_bc  all_util  total_rev_hi_lim  inq_fi  \\\n",
       "count          0.0         0.0       0.0               0.0     0.0   \n",
       "mean           NaN         NaN       NaN               NaN     NaN   \n",
       "std            NaN         NaN       NaN               NaN     NaN   \n",
       "min            NaN         NaN       NaN               NaN     NaN   \n",
       "25%            NaN         NaN       NaN               NaN     NaN   \n",
       "50%            NaN         NaN       NaN               NaN     NaN   \n",
       "75%            NaN         NaN       NaN               NaN     NaN   \n",
       "max            NaN         NaN       NaN               NaN     NaN   \n",
       "\n",
       "       total_cu_tl  inq_last_12m  acc_open_past_24mths  avg_cur_bal  \\\n",
       "count          0.0           0.0                   0.0          0.0   \n",
       "mean           NaN           NaN                   NaN          NaN   \n",
       "std            NaN           NaN                   NaN          NaN   \n",
       "min            NaN           NaN                   NaN          NaN   \n",
       "25%            NaN           NaN                   NaN          NaN   \n",
       "50%            NaN           NaN                   NaN          NaN   \n",
       "75%            NaN           NaN                   NaN          NaN   \n",
       "max            NaN           NaN                   NaN          NaN   \n",
       "\n",
       "       bc_open_to_buy  bc_util  chargeoff_within_12_mths  delinq_amnt  \\\n",
       "count             0.0      0.0                   39661.0      39717.0   \n",
       "mean              NaN      NaN                       0.0          0.0   \n",
       "std               NaN      NaN                       0.0          0.0   \n",
       "min               NaN      NaN                       0.0          0.0   \n",
       "25%               NaN      NaN                       0.0          0.0   \n",
       "50%               NaN      NaN                       0.0          0.0   \n",
       "75%               NaN      NaN                       0.0          0.0   \n",
       "max               NaN      NaN                       0.0          0.0   \n",
       "\n",
       "       mo_sin_old_il_acct  mo_sin_old_rev_tl_op  mo_sin_rcnt_rev_tl_op  \\\n",
       "count                 0.0                   0.0                    0.0   \n",
       "mean                  NaN                   NaN                    NaN   \n",
       "std                   NaN                   NaN                    NaN   \n",
       "min                   NaN                   NaN                    NaN   \n",
       "25%                   NaN                   NaN                    NaN   \n",
       "50%                   NaN                   NaN                    NaN   \n",
       "75%                   NaN                   NaN                    NaN   \n",
       "max                   NaN                   NaN                    NaN   \n",
       "\n",
       "       mo_sin_rcnt_tl  mort_acc  mths_since_recent_bc  \\\n",
       "count             0.0       0.0                   0.0   \n",
       "mean              NaN       NaN                   NaN   \n",
       "std               NaN       NaN                   NaN   \n",
       "min               NaN       NaN                   NaN   \n",
       "25%               NaN       NaN                   NaN   \n",
       "50%               NaN       NaN                   NaN   \n",
       "75%               NaN       NaN                   NaN   \n",
       "max               NaN       NaN                   NaN   \n",
       "\n",
       "       mths_since_recent_bc_dlq  mths_since_recent_inq  \\\n",
       "count                       0.0                    0.0   \n",
       "mean                        NaN                    NaN   \n",
       "std                         NaN                    NaN   \n",
       "min                         NaN                    NaN   \n",
       "25%                         NaN                    NaN   \n",
       "50%                         NaN                    NaN   \n",
       "75%                         NaN                    NaN   \n",
       "max                         NaN                    NaN   \n",
       "\n",
       "       mths_since_recent_revol_delinq  num_accts_ever_120_pd  num_actv_bc_tl  \\\n",
       "count                             0.0                    0.0             0.0   \n",
       "mean                              NaN                    NaN             NaN   \n",
       "std                               NaN                    NaN             NaN   \n",
       "min                               NaN                    NaN             NaN   \n",
       "25%                               NaN                    NaN             NaN   \n",
       "50%                               NaN                    NaN             NaN   \n",
       "75%                               NaN                    NaN             NaN   \n",
       "max                               NaN                    NaN             NaN   \n",
       "\n",
       "       num_actv_rev_tl  num_bc_sats  num_bc_tl  num_il_tl  num_op_rev_tl  \\\n",
       "count              0.0          0.0        0.0        0.0            0.0   \n",
       "mean               NaN          NaN        NaN        NaN            NaN   \n",
       "std                NaN          NaN        NaN        NaN            NaN   \n",
       "min                NaN          NaN        NaN        NaN            NaN   \n",
       "25%                NaN          NaN        NaN        NaN            NaN   \n",
       "50%                NaN          NaN        NaN        NaN            NaN   \n",
       "75%                NaN          NaN        NaN        NaN            NaN   \n",
       "max                NaN          NaN        NaN        NaN            NaN   \n",
       "\n",
       "       num_rev_accts  num_rev_tl_bal_gt_0  num_sats  num_tl_120dpd_2m  \\\n",
       "count            0.0                  0.0       0.0               0.0   \n",
       "mean             NaN                  NaN       NaN               NaN   \n",
       "std              NaN                  NaN       NaN               NaN   \n",
       "min              NaN                  NaN       NaN               NaN   \n",
       "25%              NaN                  NaN       NaN               NaN   \n",
       "50%              NaN                  NaN       NaN               NaN   \n",
       "75%              NaN                  NaN       NaN               NaN   \n",
       "max              NaN                  NaN       NaN               NaN   \n",
       "\n",
       "       num_tl_30dpd  num_tl_90g_dpd_24m  num_tl_op_past_12m  pct_tl_nvr_dlq  \\\n",
       "count           0.0                 0.0                 0.0             0.0   \n",
       "mean            NaN                 NaN                 NaN             NaN   \n",
       "std             NaN                 NaN                 NaN             NaN   \n",
       "min             NaN                 NaN                 NaN             NaN   \n",
       "25%             NaN                 NaN                 NaN             NaN   \n",
       "50%             NaN                 NaN                 NaN             NaN   \n",
       "75%             NaN                 NaN                 NaN             NaN   \n",
       "max             NaN                 NaN                 NaN             NaN   \n",
       "\n",
       "       percent_bc_gt_75  pub_rec_bankruptcies  tax_liens  tot_hi_cred_lim  \\\n",
       "count               0.0          39020.000000    39678.0              0.0   \n",
       "mean                NaN              0.043260        0.0              NaN   \n",
       "std                 NaN              0.204324        0.0              NaN   \n",
       "min                 NaN              0.000000        0.0              NaN   \n",
       "25%                 NaN              0.000000        0.0              NaN   \n",
       "50%                 NaN              0.000000        0.0              NaN   \n",
       "75%                 NaN              0.000000        0.0              NaN   \n",
       "max                 NaN              2.000000        0.0              NaN   \n",
       "\n",
       "       total_bal_ex_mort  total_bc_limit  total_il_high_credit_limit  \n",
       "count                0.0             0.0                         0.0  \n",
       "mean                 NaN             NaN                         NaN  \n",
       "std                  NaN             NaN                         NaN  \n",
       "min                  NaN             NaN                         NaN  \n",
       "25%                  NaN             NaN                         NaN  \n",
       "50%                  NaN             NaN                         NaN  \n",
       "75%                  NaN             NaN                         NaN  \n",
       "max                  NaN             NaN                         NaN  "
      ]
     },
     "execution_count": 4,
     "metadata": {},
     "output_type": "execute_result"
    }
   ],
   "source": [
    "loan.describe()"
   ]
  },
  {
   "cell_type": "markdown",
   "metadata": {},
   "source": [
    "## Data Cleaning"
   ]
  },
  {
   "cell_type": "markdown",
   "metadata": {},
   "source": [
    "There are various types of quality issues when it comes to data, and that’s why data cleaning is one of the most time-consuming steps of data analysis. For example, there could be formatting errors (e.g. rows and columns are ill-formatted, unclearly named etc.), missing values, repeated rows, spelling inconsistencies etc. These issues could make it difficult to analyse data and could lead to errors or irrelevant results. Thus, these issues need to be corrected before data is analysed.\n",
    "\n",
    "Though data cleaning is often done in a somewhat haphazard way and it is too difficult to define a ‘single structured process’, we will process data cleaning in the following steps:\n",
    "\n",
    "1. Fix rows and columns\n",
    "2. Fix missing values\n",
    "3. Standardise values\n",
    "4. Fix invalid values\n",
    "5. Filter data"
   ]
  },
  {
   "cell_type": "markdown",
   "metadata": {},
   "source": [
    "### Fixing Rows and Columns"
   ]
  },
  {
   "cell_type": "code",
   "execution_count": null,
   "metadata": {},
   "outputs": [],
   "source": []
  },
  {
   "cell_type": "markdown",
   "metadata": {},
   "source": [
    "### Fix Missing Values"
   ]
  },
  {
   "cell_type": "markdown",
   "metadata": {},
   "source": [
    "It is better to let missing values be and continue with the analysis rather than extrapolate the available information.\n",
    "\n",
    "Let us summarise how to deal with missing values:\n",
    "\n",
    "1. Set values as missing values: Identify values that indicate missing data, and yet are not recognised by the software as such, e.g treat blank strings, \"NA\", \"XX\", \"999\", etc. as missing.\n",
    "\n",
    "2. Adding is good, exaggerating is bad: You should try to get information from reliable external sources as much as possible, but if you can’t, then it is better to keep missing values as such rather than exaggerating the existing rows/columns.\n",
    "\n",
    "3. Delete rows, columns: Rows could be deleted if the number of missing values are significant in number, as this would not impact the analysis. Columns could be removed if the missing values are quite significant in number.\n",
    "\n",
    "4. Fill partial missing values using business judgement: Missing time zone, century, etc. These values are easily identifiable."
   ]
  },
  {
   "cell_type": "code",
   "execution_count": 5,
   "metadata": {},
   "outputs": [
    {
     "data": {
      "text/html": [
       "<div>\n",
       "<style scoped>\n",
       "    .dataframe tbody tr th:only-of-type {\n",
       "        vertical-align: middle;\n",
       "    }\n",
       "\n",
       "    .dataframe tbody tr th {\n",
       "        vertical-align: top;\n",
       "    }\n",
       "\n",
       "    .dataframe thead th {\n",
       "        text-align: right;\n",
       "    }\n",
       "</style>\n",
       "<table border=\"1\" class=\"dataframe\">\n",
       "  <thead>\n",
       "    <tr style=\"text-align: right;\">\n",
       "      <th></th>\n",
       "      <th>id</th>\n",
       "      <th>member_id</th>\n",
       "      <th>loan_amnt</th>\n",
       "      <th>funded_amnt</th>\n",
       "      <th>funded_amnt_inv</th>\n",
       "      <th>term</th>\n",
       "      <th>int_rate</th>\n",
       "      <th>installment</th>\n",
       "      <th>grade</th>\n",
       "      <th>sub_grade</th>\n",
       "      <th>emp_title</th>\n",
       "      <th>emp_length</th>\n",
       "      <th>home_ownership</th>\n",
       "      <th>annual_inc</th>\n",
       "      <th>verification_status</th>\n",
       "      <th>issue_d</th>\n",
       "      <th>loan_status</th>\n",
       "      <th>pymnt_plan</th>\n",
       "      <th>url</th>\n",
       "      <th>desc</th>\n",
       "      <th>purpose</th>\n",
       "      <th>title</th>\n",
       "      <th>zip_code</th>\n",
       "      <th>addr_state</th>\n",
       "      <th>dti</th>\n",
       "      <th>delinq_2yrs</th>\n",
       "      <th>earliest_cr_line</th>\n",
       "      <th>inq_last_6mths</th>\n",
       "      <th>mths_since_last_delinq</th>\n",
       "      <th>mths_since_last_record</th>\n",
       "      <th>open_acc</th>\n",
       "      <th>pub_rec</th>\n",
       "      <th>revol_bal</th>\n",
       "      <th>revol_util</th>\n",
       "      <th>total_acc</th>\n",
       "      <th>initial_list_status</th>\n",
       "      <th>out_prncp</th>\n",
       "      <th>out_prncp_inv</th>\n",
       "      <th>total_pymnt</th>\n",
       "      <th>total_pymnt_inv</th>\n",
       "      <th>total_rec_prncp</th>\n",
       "      <th>total_rec_int</th>\n",
       "      <th>total_rec_late_fee</th>\n",
       "      <th>recoveries</th>\n",
       "      <th>collection_recovery_fee</th>\n",
       "      <th>last_pymnt_d</th>\n",
       "      <th>last_pymnt_amnt</th>\n",
       "      <th>next_pymnt_d</th>\n",
       "      <th>last_credit_pull_d</th>\n",
       "      <th>collections_12_mths_ex_med</th>\n",
       "      <th>mths_since_last_major_derog</th>\n",
       "      <th>policy_code</th>\n",
       "      <th>application_type</th>\n",
       "      <th>annual_inc_joint</th>\n",
       "      <th>dti_joint</th>\n",
       "      <th>verification_status_joint</th>\n",
       "      <th>acc_now_delinq</th>\n",
       "      <th>tot_coll_amt</th>\n",
       "      <th>tot_cur_bal</th>\n",
       "      <th>open_acc_6m</th>\n",
       "      <th>open_il_6m</th>\n",
       "      <th>open_il_12m</th>\n",
       "      <th>open_il_24m</th>\n",
       "      <th>mths_since_rcnt_il</th>\n",
       "      <th>total_bal_il</th>\n",
       "      <th>il_util</th>\n",
       "      <th>open_rv_12m</th>\n",
       "      <th>open_rv_24m</th>\n",
       "      <th>max_bal_bc</th>\n",
       "      <th>all_util</th>\n",
       "      <th>total_rev_hi_lim</th>\n",
       "      <th>inq_fi</th>\n",
       "      <th>total_cu_tl</th>\n",
       "      <th>inq_last_12m</th>\n",
       "      <th>acc_open_past_24mths</th>\n",
       "      <th>avg_cur_bal</th>\n",
       "      <th>bc_open_to_buy</th>\n",
       "      <th>bc_util</th>\n",
       "      <th>chargeoff_within_12_mths</th>\n",
       "      <th>delinq_amnt</th>\n",
       "      <th>mo_sin_old_il_acct</th>\n",
       "      <th>mo_sin_old_rev_tl_op</th>\n",
       "      <th>mo_sin_rcnt_rev_tl_op</th>\n",
       "      <th>mo_sin_rcnt_tl</th>\n",
       "      <th>mort_acc</th>\n",
       "      <th>mths_since_recent_bc</th>\n",
       "      <th>mths_since_recent_bc_dlq</th>\n",
       "      <th>mths_since_recent_inq</th>\n",
       "      <th>mths_since_recent_revol_delinq</th>\n",
       "      <th>num_accts_ever_120_pd</th>\n",
       "      <th>num_actv_bc_tl</th>\n",
       "      <th>num_actv_rev_tl</th>\n",
       "      <th>num_bc_sats</th>\n",
       "      <th>num_bc_tl</th>\n",
       "      <th>num_il_tl</th>\n",
       "      <th>num_op_rev_tl</th>\n",
       "      <th>num_rev_accts</th>\n",
       "      <th>num_rev_tl_bal_gt_0</th>\n",
       "      <th>num_sats</th>\n",
       "      <th>num_tl_120dpd_2m</th>\n",
       "      <th>num_tl_30dpd</th>\n",
       "      <th>num_tl_90g_dpd_24m</th>\n",
       "      <th>num_tl_op_past_12m</th>\n",
       "      <th>pct_tl_nvr_dlq</th>\n",
       "      <th>percent_bc_gt_75</th>\n",
       "      <th>pub_rec_bankruptcies</th>\n",
       "      <th>tax_liens</th>\n",
       "      <th>tot_hi_cred_lim</th>\n",
       "      <th>total_bal_ex_mort</th>\n",
       "      <th>total_bc_limit</th>\n",
       "      <th>total_il_high_credit_limit</th>\n",
       "    </tr>\n",
       "  </thead>\n",
       "  <tbody>\n",
       "    <tr>\n",
       "      <td>0</td>\n",
       "      <td>1077501</td>\n",
       "      <td>1296599</td>\n",
       "      <td>5000</td>\n",
       "      <td>5000</td>\n",
       "      <td>4975.0</td>\n",
       "      <td>36 months</td>\n",
       "      <td>10.65%</td>\n",
       "      <td>162.87</td>\n",
       "      <td>B</td>\n",
       "      <td>B2</td>\n",
       "      <td>NaN</td>\n",
       "      <td>10+ years</td>\n",
       "      <td>RENT</td>\n",
       "      <td>24000.0</td>\n",
       "      <td>Verified</td>\n",
       "      <td>Dec-11</td>\n",
       "      <td>Fully Paid</td>\n",
       "      <td>n</td>\n",
       "      <td>https://lendingclub.com/browse/loanDetail.action?loan_id=1077501</td>\n",
       "      <td>Borrower added on 12/22/11 &gt; I need to upgrade my business technologies.&lt;br&gt;</td>\n",
       "      <td>credit_card</td>\n",
       "      <td>Computer</td>\n",
       "      <td>860xx</td>\n",
       "      <td>AZ</td>\n",
       "      <td>27.65</td>\n",
       "      <td>0</td>\n",
       "      <td>Jan-85</td>\n",
       "      <td>1</td>\n",
       "      <td>NaN</td>\n",
       "      <td>NaN</td>\n",
       "      <td>3</td>\n",
       "      <td>0</td>\n",
       "      <td>13648</td>\n",
       "      <td>83.70%</td>\n",
       "      <td>9</td>\n",
       "      <td>f</td>\n",
       "      <td>0.00</td>\n",
       "      <td>0.00</td>\n",
       "      <td>5863.155187</td>\n",
       "      <td>5833.84</td>\n",
       "      <td>5000.00</td>\n",
       "      <td>863.16</td>\n",
       "      <td>0.00</td>\n",
       "      <td>0.00</td>\n",
       "      <td>0.00</td>\n",
       "      <td>Jan-15</td>\n",
       "      <td>171.62</td>\n",
       "      <td>NaN</td>\n",
       "      <td>May-16</td>\n",
       "      <td>0.0</td>\n",
       "      <td>NaN</td>\n",
       "      <td>1</td>\n",
       "      <td>INDIVIDUAL</td>\n",
       "      <td>NaN</td>\n",
       "      <td>NaN</td>\n",
       "      <td>NaN</td>\n",
       "      <td>0</td>\n",
       "      <td>NaN</td>\n",
       "      <td>NaN</td>\n",
       "      <td>NaN</td>\n",
       "      <td>NaN</td>\n",
       "      <td>NaN</td>\n",
       "      <td>NaN</td>\n",
       "      <td>NaN</td>\n",
       "      <td>NaN</td>\n",
       "      <td>NaN</td>\n",
       "      <td>NaN</td>\n",
       "      <td>NaN</td>\n",
       "      <td>NaN</td>\n",
       "      <td>NaN</td>\n",
       "      <td>NaN</td>\n",
       "      <td>NaN</td>\n",
       "      <td>NaN</td>\n",
       "      <td>NaN</td>\n",
       "      <td>NaN</td>\n",
       "      <td>NaN</td>\n",
       "      <td>NaN</td>\n",
       "      <td>NaN</td>\n",
       "      <td>0.0</td>\n",
       "      <td>0</td>\n",
       "      <td>NaN</td>\n",
       "      <td>NaN</td>\n",
       "      <td>NaN</td>\n",
       "      <td>NaN</td>\n",
       "      <td>NaN</td>\n",
       "      <td>NaN</td>\n",
       "      <td>NaN</td>\n",
       "      <td>NaN</td>\n",
       "      <td>NaN</td>\n",
       "      <td>NaN</td>\n",
       "      <td>NaN</td>\n",
       "      <td>NaN</td>\n",
       "      <td>NaN</td>\n",
       "      <td>NaN</td>\n",
       "      <td>NaN</td>\n",
       "      <td>NaN</td>\n",
       "      <td>NaN</td>\n",
       "      <td>NaN</td>\n",
       "      <td>NaN</td>\n",
       "      <td>NaN</td>\n",
       "      <td>NaN</td>\n",
       "      <td>NaN</td>\n",
       "      <td>NaN</td>\n",
       "      <td>NaN</td>\n",
       "      <td>NaN</td>\n",
       "      <td>0.0</td>\n",
       "      <td>0.0</td>\n",
       "      <td>NaN</td>\n",
       "      <td>NaN</td>\n",
       "      <td>NaN</td>\n",
       "      <td>NaN</td>\n",
       "    </tr>\n",
       "    <tr>\n",
       "      <td>1</td>\n",
       "      <td>1077430</td>\n",
       "      <td>1314167</td>\n",
       "      <td>2500</td>\n",
       "      <td>2500</td>\n",
       "      <td>2500.0</td>\n",
       "      <td>60 months</td>\n",
       "      <td>15.27%</td>\n",
       "      <td>59.83</td>\n",
       "      <td>C</td>\n",
       "      <td>C4</td>\n",
       "      <td>Ryder</td>\n",
       "      <td>&lt; 1 year</td>\n",
       "      <td>RENT</td>\n",
       "      <td>30000.0</td>\n",
       "      <td>Source Verified</td>\n",
       "      <td>Dec-11</td>\n",
       "      <td>Charged Off</td>\n",
       "      <td>n</td>\n",
       "      <td>https://lendingclub.com/browse/loanDetail.action?loan_id=1077430</td>\n",
       "      <td>Borrower added on 12/22/11 &gt; I plan to use this money to finance the motorcycle i am looking at. I plan to have it paid off as soon as possible/when i sell my old bike. I only need this money because the deal im looking at is to good to pass up.&lt;br&gt;&lt;br&gt;  Borrower added on 12/22/11 &gt; I plan to use this money to finance the motorcycle i am looking at. I plan to have it paid off as soon as possible/when i sell my old bike.I only need this money because the deal im looking at is to good to pass up. I have finished college with an associates degree in business and its takingmeplaces&lt;br&gt;</td>\n",
       "      <td>car</td>\n",
       "      <td>bike</td>\n",
       "      <td>309xx</td>\n",
       "      <td>GA</td>\n",
       "      <td>1.00</td>\n",
       "      <td>0</td>\n",
       "      <td>Apr-99</td>\n",
       "      <td>5</td>\n",
       "      <td>NaN</td>\n",
       "      <td>NaN</td>\n",
       "      <td>3</td>\n",
       "      <td>0</td>\n",
       "      <td>1687</td>\n",
       "      <td>9.40%</td>\n",
       "      <td>4</td>\n",
       "      <td>f</td>\n",
       "      <td>0.00</td>\n",
       "      <td>0.00</td>\n",
       "      <td>1008.710000</td>\n",
       "      <td>1008.71</td>\n",
       "      <td>456.46</td>\n",
       "      <td>435.17</td>\n",
       "      <td>0.00</td>\n",
       "      <td>117.08</td>\n",
       "      <td>1.11</td>\n",
       "      <td>Apr-13</td>\n",
       "      <td>119.66</td>\n",
       "      <td>NaN</td>\n",
       "      <td>Sep-13</td>\n",
       "      <td>0.0</td>\n",
       "      <td>NaN</td>\n",
       "      <td>1</td>\n",
       "      <td>INDIVIDUAL</td>\n",
       "      <td>NaN</td>\n",
       "      <td>NaN</td>\n",
       "      <td>NaN</td>\n",
       "      <td>0</td>\n",
       "      <td>NaN</td>\n",
       "      <td>NaN</td>\n",
       "      <td>NaN</td>\n",
       "      <td>NaN</td>\n",
       "      <td>NaN</td>\n",
       "      <td>NaN</td>\n",
       "      <td>NaN</td>\n",
       "      <td>NaN</td>\n",
       "      <td>NaN</td>\n",
       "      <td>NaN</td>\n",
       "      <td>NaN</td>\n",
       "      <td>NaN</td>\n",
       "      <td>NaN</td>\n",
       "      <td>NaN</td>\n",
       "      <td>NaN</td>\n",
       "      <td>NaN</td>\n",
       "      <td>NaN</td>\n",
       "      <td>NaN</td>\n",
       "      <td>NaN</td>\n",
       "      <td>NaN</td>\n",
       "      <td>NaN</td>\n",
       "      <td>0.0</td>\n",
       "      <td>0</td>\n",
       "      <td>NaN</td>\n",
       "      <td>NaN</td>\n",
       "      <td>NaN</td>\n",
       "      <td>NaN</td>\n",
       "      <td>NaN</td>\n",
       "      <td>NaN</td>\n",
       "      <td>NaN</td>\n",
       "      <td>NaN</td>\n",
       "      <td>NaN</td>\n",
       "      <td>NaN</td>\n",
       "      <td>NaN</td>\n",
       "      <td>NaN</td>\n",
       "      <td>NaN</td>\n",
       "      <td>NaN</td>\n",
       "      <td>NaN</td>\n",
       "      <td>NaN</td>\n",
       "      <td>NaN</td>\n",
       "      <td>NaN</td>\n",
       "      <td>NaN</td>\n",
       "      <td>NaN</td>\n",
       "      <td>NaN</td>\n",
       "      <td>NaN</td>\n",
       "      <td>NaN</td>\n",
       "      <td>NaN</td>\n",
       "      <td>NaN</td>\n",
       "      <td>0.0</td>\n",
       "      <td>0.0</td>\n",
       "      <td>NaN</td>\n",
       "      <td>NaN</td>\n",
       "      <td>NaN</td>\n",
       "      <td>NaN</td>\n",
       "    </tr>\n",
       "    <tr>\n",
       "      <td>2</td>\n",
       "      <td>1077175</td>\n",
       "      <td>1313524</td>\n",
       "      <td>2400</td>\n",
       "      <td>2400</td>\n",
       "      <td>2400.0</td>\n",
       "      <td>36 months</td>\n",
       "      <td>15.96%</td>\n",
       "      <td>84.33</td>\n",
       "      <td>C</td>\n",
       "      <td>C5</td>\n",
       "      <td>NaN</td>\n",
       "      <td>10+ years</td>\n",
       "      <td>RENT</td>\n",
       "      <td>12252.0</td>\n",
       "      <td>Not Verified</td>\n",
       "      <td>Dec-11</td>\n",
       "      <td>Fully Paid</td>\n",
       "      <td>n</td>\n",
       "      <td>https://lendingclub.com/browse/loanDetail.action?loan_id=1077175</td>\n",
       "      <td>NaN</td>\n",
       "      <td>small_business</td>\n",
       "      <td>real estate business</td>\n",
       "      <td>606xx</td>\n",
       "      <td>IL</td>\n",
       "      <td>8.72</td>\n",
       "      <td>0</td>\n",
       "      <td>Nov-01</td>\n",
       "      <td>2</td>\n",
       "      <td>NaN</td>\n",
       "      <td>NaN</td>\n",
       "      <td>2</td>\n",
       "      <td>0</td>\n",
       "      <td>2956</td>\n",
       "      <td>98.50%</td>\n",
       "      <td>10</td>\n",
       "      <td>f</td>\n",
       "      <td>0.00</td>\n",
       "      <td>0.00</td>\n",
       "      <td>3005.666844</td>\n",
       "      <td>3005.67</td>\n",
       "      <td>2400.00</td>\n",
       "      <td>605.67</td>\n",
       "      <td>0.00</td>\n",
       "      <td>0.00</td>\n",
       "      <td>0.00</td>\n",
       "      <td>Jun-14</td>\n",
       "      <td>649.91</td>\n",
       "      <td>NaN</td>\n",
       "      <td>May-16</td>\n",
       "      <td>0.0</td>\n",
       "      <td>NaN</td>\n",
       "      <td>1</td>\n",
       "      <td>INDIVIDUAL</td>\n",
       "      <td>NaN</td>\n",
       "      <td>NaN</td>\n",
       "      <td>NaN</td>\n",
       "      <td>0</td>\n",
       "      <td>NaN</td>\n",
       "      <td>NaN</td>\n",
       "      <td>NaN</td>\n",
       "      <td>NaN</td>\n",
       "      <td>NaN</td>\n",
       "      <td>NaN</td>\n",
       "      <td>NaN</td>\n",
       "      <td>NaN</td>\n",
       "      <td>NaN</td>\n",
       "      <td>NaN</td>\n",
       "      <td>NaN</td>\n",
       "      <td>NaN</td>\n",
       "      <td>NaN</td>\n",
       "      <td>NaN</td>\n",
       "      <td>NaN</td>\n",
       "      <td>NaN</td>\n",
       "      <td>NaN</td>\n",
       "      <td>NaN</td>\n",
       "      <td>NaN</td>\n",
       "      <td>NaN</td>\n",
       "      <td>NaN</td>\n",
       "      <td>0.0</td>\n",
       "      <td>0</td>\n",
       "      <td>NaN</td>\n",
       "      <td>NaN</td>\n",
       "      <td>NaN</td>\n",
       "      <td>NaN</td>\n",
       "      <td>NaN</td>\n",
       "      <td>NaN</td>\n",
       "      <td>NaN</td>\n",
       "      <td>NaN</td>\n",
       "      <td>NaN</td>\n",
       "      <td>NaN</td>\n",
       "      <td>NaN</td>\n",
       "      <td>NaN</td>\n",
       "      <td>NaN</td>\n",
       "      <td>NaN</td>\n",
       "      <td>NaN</td>\n",
       "      <td>NaN</td>\n",
       "      <td>NaN</td>\n",
       "      <td>NaN</td>\n",
       "      <td>NaN</td>\n",
       "      <td>NaN</td>\n",
       "      <td>NaN</td>\n",
       "      <td>NaN</td>\n",
       "      <td>NaN</td>\n",
       "      <td>NaN</td>\n",
       "      <td>NaN</td>\n",
       "      <td>0.0</td>\n",
       "      <td>0.0</td>\n",
       "      <td>NaN</td>\n",
       "      <td>NaN</td>\n",
       "      <td>NaN</td>\n",
       "      <td>NaN</td>\n",
       "    </tr>\n",
       "    <tr>\n",
       "      <td>3</td>\n",
       "      <td>1076863</td>\n",
       "      <td>1277178</td>\n",
       "      <td>10000</td>\n",
       "      <td>10000</td>\n",
       "      <td>10000.0</td>\n",
       "      <td>36 months</td>\n",
       "      <td>13.49%</td>\n",
       "      <td>339.31</td>\n",
       "      <td>C</td>\n",
       "      <td>C1</td>\n",
       "      <td>AIR RESOURCES BOARD</td>\n",
       "      <td>10+ years</td>\n",
       "      <td>RENT</td>\n",
       "      <td>49200.0</td>\n",
       "      <td>Source Verified</td>\n",
       "      <td>Dec-11</td>\n",
       "      <td>Fully Paid</td>\n",
       "      <td>n</td>\n",
       "      <td>https://lendingclub.com/browse/loanDetail.action?loan_id=1076863</td>\n",
       "      <td>Borrower added on 12/21/11 &gt; to pay for property tax (borrow from friend, need to pay back) &amp; central A/C need to be replace. I'm very sorry to let my loan expired last time.&lt;br&gt;</td>\n",
       "      <td>other</td>\n",
       "      <td>personel</td>\n",
       "      <td>917xx</td>\n",
       "      <td>CA</td>\n",
       "      <td>20.00</td>\n",
       "      <td>0</td>\n",
       "      <td>Feb-96</td>\n",
       "      <td>1</td>\n",
       "      <td>35.0</td>\n",
       "      <td>NaN</td>\n",
       "      <td>10</td>\n",
       "      <td>0</td>\n",
       "      <td>5598</td>\n",
       "      <td>21%</td>\n",
       "      <td>37</td>\n",
       "      <td>f</td>\n",
       "      <td>0.00</td>\n",
       "      <td>0.00</td>\n",
       "      <td>12231.890000</td>\n",
       "      <td>12231.89</td>\n",
       "      <td>10000.00</td>\n",
       "      <td>2214.92</td>\n",
       "      <td>16.97</td>\n",
       "      <td>0.00</td>\n",
       "      <td>0.00</td>\n",
       "      <td>Jan-15</td>\n",
       "      <td>357.48</td>\n",
       "      <td>NaN</td>\n",
       "      <td>Apr-16</td>\n",
       "      <td>0.0</td>\n",
       "      <td>NaN</td>\n",
       "      <td>1</td>\n",
       "      <td>INDIVIDUAL</td>\n",
       "      <td>NaN</td>\n",
       "      <td>NaN</td>\n",
       "      <td>NaN</td>\n",
       "      <td>0</td>\n",
       "      <td>NaN</td>\n",
       "      <td>NaN</td>\n",
       "      <td>NaN</td>\n",
       "      <td>NaN</td>\n",
       "      <td>NaN</td>\n",
       "      <td>NaN</td>\n",
       "      <td>NaN</td>\n",
       "      <td>NaN</td>\n",
       "      <td>NaN</td>\n",
       "      <td>NaN</td>\n",
       "      <td>NaN</td>\n",
       "      <td>NaN</td>\n",
       "      <td>NaN</td>\n",
       "      <td>NaN</td>\n",
       "      <td>NaN</td>\n",
       "      <td>NaN</td>\n",
       "      <td>NaN</td>\n",
       "      <td>NaN</td>\n",
       "      <td>NaN</td>\n",
       "      <td>NaN</td>\n",
       "      <td>NaN</td>\n",
       "      <td>0.0</td>\n",
       "      <td>0</td>\n",
       "      <td>NaN</td>\n",
       "      <td>NaN</td>\n",
       "      <td>NaN</td>\n",
       "      <td>NaN</td>\n",
       "      <td>NaN</td>\n",
       "      <td>NaN</td>\n",
       "      <td>NaN</td>\n",
       "      <td>NaN</td>\n",
       "      <td>NaN</td>\n",
       "      <td>NaN</td>\n",
       "      <td>NaN</td>\n",
       "      <td>NaN</td>\n",
       "      <td>NaN</td>\n",
       "      <td>NaN</td>\n",
       "      <td>NaN</td>\n",
       "      <td>NaN</td>\n",
       "      <td>NaN</td>\n",
       "      <td>NaN</td>\n",
       "      <td>NaN</td>\n",
       "      <td>NaN</td>\n",
       "      <td>NaN</td>\n",
       "      <td>NaN</td>\n",
       "      <td>NaN</td>\n",
       "      <td>NaN</td>\n",
       "      <td>NaN</td>\n",
       "      <td>0.0</td>\n",
       "      <td>0.0</td>\n",
       "      <td>NaN</td>\n",
       "      <td>NaN</td>\n",
       "      <td>NaN</td>\n",
       "      <td>NaN</td>\n",
       "    </tr>\n",
       "    <tr>\n",
       "      <td>4</td>\n",
       "      <td>1075358</td>\n",
       "      <td>1311748</td>\n",
       "      <td>3000</td>\n",
       "      <td>3000</td>\n",
       "      <td>3000.0</td>\n",
       "      <td>60 months</td>\n",
       "      <td>12.69%</td>\n",
       "      <td>67.79</td>\n",
       "      <td>B</td>\n",
       "      <td>B5</td>\n",
       "      <td>University Medical Group</td>\n",
       "      <td>1 year</td>\n",
       "      <td>RENT</td>\n",
       "      <td>80000.0</td>\n",
       "      <td>Source Verified</td>\n",
       "      <td>Dec-11</td>\n",
       "      <td>Current</td>\n",
       "      <td>n</td>\n",
       "      <td>https://lendingclub.com/browse/loanDetail.action?loan_id=1075358</td>\n",
       "      <td>Borrower added on 12/21/11 &gt; I plan on combining three large interest bills together and freeing up some extra each month to pay toward other bills.  I've always been a good payor but have found myself needing to make adjustments to my budget due to a medical scare. My job is very stable, I love it.&lt;br&gt;</td>\n",
       "      <td>other</td>\n",
       "      <td>Personal</td>\n",
       "      <td>972xx</td>\n",
       "      <td>OR</td>\n",
       "      <td>17.94</td>\n",
       "      <td>0</td>\n",
       "      <td>Jan-96</td>\n",
       "      <td>0</td>\n",
       "      <td>38.0</td>\n",
       "      <td>NaN</td>\n",
       "      <td>15</td>\n",
       "      <td>0</td>\n",
       "      <td>27783</td>\n",
       "      <td>53.90%</td>\n",
       "      <td>38</td>\n",
       "      <td>f</td>\n",
       "      <td>524.06</td>\n",
       "      <td>524.06</td>\n",
       "      <td>3513.330000</td>\n",
       "      <td>3513.33</td>\n",
       "      <td>2475.94</td>\n",
       "      <td>1037.39</td>\n",
       "      <td>0.00</td>\n",
       "      <td>0.00</td>\n",
       "      <td>0.00</td>\n",
       "      <td>May-16</td>\n",
       "      <td>67.79</td>\n",
       "      <td>Jun-16</td>\n",
       "      <td>May-16</td>\n",
       "      <td>0.0</td>\n",
       "      <td>NaN</td>\n",
       "      <td>1</td>\n",
       "      <td>INDIVIDUAL</td>\n",
       "      <td>NaN</td>\n",
       "      <td>NaN</td>\n",
       "      <td>NaN</td>\n",
       "      <td>0</td>\n",
       "      <td>NaN</td>\n",
       "      <td>NaN</td>\n",
       "      <td>NaN</td>\n",
       "      <td>NaN</td>\n",
       "      <td>NaN</td>\n",
       "      <td>NaN</td>\n",
       "      <td>NaN</td>\n",
       "      <td>NaN</td>\n",
       "      <td>NaN</td>\n",
       "      <td>NaN</td>\n",
       "      <td>NaN</td>\n",
       "      <td>NaN</td>\n",
       "      <td>NaN</td>\n",
       "      <td>NaN</td>\n",
       "      <td>NaN</td>\n",
       "      <td>NaN</td>\n",
       "      <td>NaN</td>\n",
       "      <td>NaN</td>\n",
       "      <td>NaN</td>\n",
       "      <td>NaN</td>\n",
       "      <td>NaN</td>\n",
       "      <td>0.0</td>\n",
       "      <td>0</td>\n",
       "      <td>NaN</td>\n",
       "      <td>NaN</td>\n",
       "      <td>NaN</td>\n",
       "      <td>NaN</td>\n",
       "      <td>NaN</td>\n",
       "      <td>NaN</td>\n",
       "      <td>NaN</td>\n",
       "      <td>NaN</td>\n",
       "      <td>NaN</td>\n",
       "      <td>NaN</td>\n",
       "      <td>NaN</td>\n",
       "      <td>NaN</td>\n",
       "      <td>NaN</td>\n",
       "      <td>NaN</td>\n",
       "      <td>NaN</td>\n",
       "      <td>NaN</td>\n",
       "      <td>NaN</td>\n",
       "      <td>NaN</td>\n",
       "      <td>NaN</td>\n",
       "      <td>NaN</td>\n",
       "      <td>NaN</td>\n",
       "      <td>NaN</td>\n",
       "      <td>NaN</td>\n",
       "      <td>NaN</td>\n",
       "      <td>NaN</td>\n",
       "      <td>0.0</td>\n",
       "      <td>0.0</td>\n",
       "      <td>NaN</td>\n",
       "      <td>NaN</td>\n",
       "      <td>NaN</td>\n",
       "      <td>NaN</td>\n",
       "    </tr>\n",
       "  </tbody>\n",
       "</table>\n",
       "</div>"
      ],
      "text/plain": [
       "        id  member_id  loan_amnt  funded_amnt  funded_amnt_inv        term  \\\n",
       "0  1077501    1296599       5000         5000           4975.0   36 months   \n",
       "1  1077430    1314167       2500         2500           2500.0   60 months   \n",
       "2  1077175    1313524       2400         2400           2400.0   36 months   \n",
       "3  1076863    1277178      10000        10000          10000.0   36 months   \n",
       "4  1075358    1311748       3000         3000           3000.0   60 months   \n",
       "\n",
       "  int_rate  installment grade sub_grade                 emp_title emp_length  \\\n",
       "0   10.65%       162.87     B        B2                       NaN  10+ years   \n",
       "1   15.27%        59.83     C        C4                     Ryder   < 1 year   \n",
       "2   15.96%        84.33     C        C5                       NaN  10+ years   \n",
       "3   13.49%       339.31     C        C1       AIR RESOURCES BOARD  10+ years   \n",
       "4   12.69%        67.79     B        B5  University Medical Group     1 year   \n",
       "\n",
       "  home_ownership  annual_inc verification_status issue_d  loan_status  \\\n",
       "0           RENT     24000.0            Verified  Dec-11   Fully Paid   \n",
       "1           RENT     30000.0     Source Verified  Dec-11  Charged Off   \n",
       "2           RENT     12252.0        Not Verified  Dec-11   Fully Paid   \n",
       "3           RENT     49200.0     Source Verified  Dec-11   Fully Paid   \n",
       "4           RENT     80000.0     Source Verified  Dec-11      Current   \n",
       "\n",
       "  pymnt_plan  \\\n",
       "0          n   \n",
       "1          n   \n",
       "2          n   \n",
       "3          n   \n",
       "4          n   \n",
       "\n",
       "                                                                url  \\\n",
       "0  https://lendingclub.com/browse/loanDetail.action?loan_id=1077501   \n",
       "1  https://lendingclub.com/browse/loanDetail.action?loan_id=1077430   \n",
       "2  https://lendingclub.com/browse/loanDetail.action?loan_id=1077175   \n",
       "3  https://lendingclub.com/browse/loanDetail.action?loan_id=1076863   \n",
       "4  https://lendingclub.com/browse/loanDetail.action?loan_id=1075358   \n",
       "\n",
       "                                                                                                                                                                                                                                                                                                                                                                                                                                                                                                                                                                                                             desc  \\\n",
       "0                                                                                                                                                                                                                                                                                                                                                                                                                                                                                                                                    Borrower added on 12/22/11 > I need to upgrade my business technologies.<br>   \n",
       "1    Borrower added on 12/22/11 > I plan to use this money to finance the motorcycle i am looking at. I plan to have it paid off as soon as possible/when i sell my old bike. I only need this money because the deal im looking at is to good to pass up.<br><br>  Borrower added on 12/22/11 > I plan to use this money to finance the motorcycle i am looking at. I plan to have it paid off as soon as possible/when i sell my old bike.I only need this money because the deal im looking at is to good to pass up. I have finished college with an associates degree in business and its takingmeplaces<br>   \n",
       "2                                                                                                                                                                                                                                                                                                                                                                                                                                                                                                                                                                                                             NaN   \n",
       "3                                                                                                                                                                                                                                                                                                                                                                                                                              Borrower added on 12/21/11 > to pay for property tax (borrow from friend, need to pay back) & central A/C need to be replace. I'm very sorry to let my loan expired last time.<br>   \n",
       "4                                                                                                                                                                                                                                                                                                Borrower added on 12/21/11 > I plan on combining three large interest bills together and freeing up some extra each month to pay toward other bills.  I've always been a good payor but have found myself needing to make adjustments to my budget due to a medical scare. My job is very stable, I love it.<br>   \n",
       "\n",
       "          purpose                 title zip_code addr_state    dti  \\\n",
       "0     credit_card              Computer    860xx         AZ  27.65   \n",
       "1             car                  bike    309xx         GA   1.00   \n",
       "2  small_business  real estate business    606xx         IL   8.72   \n",
       "3           other              personel    917xx         CA  20.00   \n",
       "4           other              Personal    972xx         OR  17.94   \n",
       "\n",
       "   delinq_2yrs earliest_cr_line  inq_last_6mths  mths_since_last_delinq  \\\n",
       "0            0           Jan-85               1                     NaN   \n",
       "1            0           Apr-99               5                     NaN   \n",
       "2            0           Nov-01               2                     NaN   \n",
       "3            0           Feb-96               1                    35.0   \n",
       "4            0           Jan-96               0                    38.0   \n",
       "\n",
       "   mths_since_last_record  open_acc  pub_rec  revol_bal revol_util  total_acc  \\\n",
       "0                     NaN         3        0      13648     83.70%          9   \n",
       "1                     NaN         3        0       1687      9.40%          4   \n",
       "2                     NaN         2        0       2956     98.50%         10   \n",
       "3                     NaN        10        0       5598        21%         37   \n",
       "4                     NaN        15        0      27783     53.90%         38   \n",
       "\n",
       "  initial_list_status  out_prncp  out_prncp_inv   total_pymnt  \\\n",
       "0                   f       0.00           0.00   5863.155187   \n",
       "1                   f       0.00           0.00   1008.710000   \n",
       "2                   f       0.00           0.00   3005.666844   \n",
       "3                   f       0.00           0.00  12231.890000   \n",
       "4                   f     524.06         524.06   3513.330000   \n",
       "\n",
       "   total_pymnt_inv  total_rec_prncp  total_rec_int  total_rec_late_fee  \\\n",
       "0          5833.84          5000.00         863.16                0.00   \n",
       "1          1008.71           456.46         435.17                0.00   \n",
       "2          3005.67          2400.00         605.67                0.00   \n",
       "3         12231.89         10000.00        2214.92               16.97   \n",
       "4          3513.33          2475.94        1037.39                0.00   \n",
       "\n",
       "   recoveries  collection_recovery_fee last_pymnt_d  last_pymnt_amnt  \\\n",
       "0        0.00                     0.00       Jan-15           171.62   \n",
       "1      117.08                     1.11       Apr-13           119.66   \n",
       "2        0.00                     0.00       Jun-14           649.91   \n",
       "3        0.00                     0.00       Jan-15           357.48   \n",
       "4        0.00                     0.00       May-16            67.79   \n",
       "\n",
       "  next_pymnt_d last_credit_pull_d  collections_12_mths_ex_med  \\\n",
       "0          NaN             May-16                         0.0   \n",
       "1          NaN             Sep-13                         0.0   \n",
       "2          NaN             May-16                         0.0   \n",
       "3          NaN             Apr-16                         0.0   \n",
       "4       Jun-16             May-16                         0.0   \n",
       "\n",
       "   mths_since_last_major_derog  policy_code application_type  \\\n",
       "0                          NaN            1       INDIVIDUAL   \n",
       "1                          NaN            1       INDIVIDUAL   \n",
       "2                          NaN            1       INDIVIDUAL   \n",
       "3                          NaN            1       INDIVIDUAL   \n",
       "4                          NaN            1       INDIVIDUAL   \n",
       "\n",
       "   annual_inc_joint  dti_joint  verification_status_joint  acc_now_delinq  \\\n",
       "0               NaN        NaN                        NaN               0   \n",
       "1               NaN        NaN                        NaN               0   \n",
       "2               NaN        NaN                        NaN               0   \n",
       "3               NaN        NaN                        NaN               0   \n",
       "4               NaN        NaN                        NaN               0   \n",
       "\n",
       "   tot_coll_amt  tot_cur_bal  open_acc_6m  open_il_6m  open_il_12m  \\\n",
       "0           NaN          NaN          NaN         NaN          NaN   \n",
       "1           NaN          NaN          NaN         NaN          NaN   \n",
       "2           NaN          NaN          NaN         NaN          NaN   \n",
       "3           NaN          NaN          NaN         NaN          NaN   \n",
       "4           NaN          NaN          NaN         NaN          NaN   \n",
       "\n",
       "   open_il_24m  mths_since_rcnt_il  total_bal_il  il_util  open_rv_12m  \\\n",
       "0          NaN                 NaN           NaN      NaN          NaN   \n",
       "1          NaN                 NaN           NaN      NaN          NaN   \n",
       "2          NaN                 NaN           NaN      NaN          NaN   \n",
       "3          NaN                 NaN           NaN      NaN          NaN   \n",
       "4          NaN                 NaN           NaN      NaN          NaN   \n",
       "\n",
       "   open_rv_24m  max_bal_bc  all_util  total_rev_hi_lim  inq_fi  total_cu_tl  \\\n",
       "0          NaN         NaN       NaN               NaN     NaN          NaN   \n",
       "1          NaN         NaN       NaN               NaN     NaN          NaN   \n",
       "2          NaN         NaN       NaN               NaN     NaN          NaN   \n",
       "3          NaN         NaN       NaN               NaN     NaN          NaN   \n",
       "4          NaN         NaN       NaN               NaN     NaN          NaN   \n",
       "\n",
       "   inq_last_12m  acc_open_past_24mths  avg_cur_bal  bc_open_to_buy  bc_util  \\\n",
       "0           NaN                   NaN          NaN             NaN      NaN   \n",
       "1           NaN                   NaN          NaN             NaN      NaN   \n",
       "2           NaN                   NaN          NaN             NaN      NaN   \n",
       "3           NaN                   NaN          NaN             NaN      NaN   \n",
       "4           NaN                   NaN          NaN             NaN      NaN   \n",
       "\n",
       "   chargeoff_within_12_mths  delinq_amnt  mo_sin_old_il_acct  \\\n",
       "0                       0.0            0                 NaN   \n",
       "1                       0.0            0                 NaN   \n",
       "2                       0.0            0                 NaN   \n",
       "3                       0.0            0                 NaN   \n",
       "4                       0.0            0                 NaN   \n",
       "\n",
       "   mo_sin_old_rev_tl_op  mo_sin_rcnt_rev_tl_op  mo_sin_rcnt_tl  mort_acc  \\\n",
       "0                   NaN                    NaN             NaN       NaN   \n",
       "1                   NaN                    NaN             NaN       NaN   \n",
       "2                   NaN                    NaN             NaN       NaN   \n",
       "3                   NaN                    NaN             NaN       NaN   \n",
       "4                   NaN                    NaN             NaN       NaN   \n",
       "\n",
       "   mths_since_recent_bc  mths_since_recent_bc_dlq  mths_since_recent_inq  \\\n",
       "0                   NaN                       NaN                    NaN   \n",
       "1                   NaN                       NaN                    NaN   \n",
       "2                   NaN                       NaN                    NaN   \n",
       "3                   NaN                       NaN                    NaN   \n",
       "4                   NaN                       NaN                    NaN   \n",
       "\n",
       "   mths_since_recent_revol_delinq  num_accts_ever_120_pd  num_actv_bc_tl  \\\n",
       "0                             NaN                    NaN             NaN   \n",
       "1                             NaN                    NaN             NaN   \n",
       "2                             NaN                    NaN             NaN   \n",
       "3                             NaN                    NaN             NaN   \n",
       "4                             NaN                    NaN             NaN   \n",
       "\n",
       "   num_actv_rev_tl  num_bc_sats  num_bc_tl  num_il_tl  num_op_rev_tl  \\\n",
       "0              NaN          NaN        NaN        NaN            NaN   \n",
       "1              NaN          NaN        NaN        NaN            NaN   \n",
       "2              NaN          NaN        NaN        NaN            NaN   \n",
       "3              NaN          NaN        NaN        NaN            NaN   \n",
       "4              NaN          NaN        NaN        NaN            NaN   \n",
       "\n",
       "   num_rev_accts  num_rev_tl_bal_gt_0  num_sats  num_tl_120dpd_2m  \\\n",
       "0            NaN                  NaN       NaN               NaN   \n",
       "1            NaN                  NaN       NaN               NaN   \n",
       "2            NaN                  NaN       NaN               NaN   \n",
       "3            NaN                  NaN       NaN               NaN   \n",
       "4            NaN                  NaN       NaN               NaN   \n",
       "\n",
       "   num_tl_30dpd  num_tl_90g_dpd_24m  num_tl_op_past_12m  pct_tl_nvr_dlq  \\\n",
       "0           NaN                 NaN                 NaN             NaN   \n",
       "1           NaN                 NaN                 NaN             NaN   \n",
       "2           NaN                 NaN                 NaN             NaN   \n",
       "3           NaN                 NaN                 NaN             NaN   \n",
       "4           NaN                 NaN                 NaN             NaN   \n",
       "\n",
       "   percent_bc_gt_75  pub_rec_bankruptcies  tax_liens  tot_hi_cred_lim  \\\n",
       "0               NaN                   0.0        0.0              NaN   \n",
       "1               NaN                   0.0        0.0              NaN   \n",
       "2               NaN                   0.0        0.0              NaN   \n",
       "3               NaN                   0.0        0.0              NaN   \n",
       "4               NaN                   0.0        0.0              NaN   \n",
       "\n",
       "   total_bal_ex_mort  total_bc_limit  total_il_high_credit_limit  \n",
       "0                NaN             NaN                         NaN  \n",
       "1                NaN             NaN                         NaN  \n",
       "2                NaN             NaN                         NaN  \n",
       "3                NaN             NaN                         NaN  \n",
       "4                NaN             NaN                         NaN  "
      ]
     },
     "execution_count": 5,
     "metadata": {},
     "output_type": "execute_result"
    }
   ],
   "source": [
    "loan.head()"
   ]
  },
  {
   "cell_type": "markdown",
   "metadata": {},
   "source": [
    "Count the number of missing values in each column of the dataset 'loan'."
   ]
  },
  {
   "cell_type": "code",
   "execution_count": 6,
   "metadata": {},
   "outputs": [
    {
     "data": {
      "text/plain": [
       "emp_title                       6.19\n",
       "emp_length                      2.71\n",
       "desc                           32.58\n",
       "title                           0.03\n",
       "mths_since_last_delinq         64.66\n",
       "                               ...  \n",
       "tax_liens                       0.10\n",
       "tot_hi_cred_lim               100.00\n",
       "total_bal_ex_mort             100.00\n",
       "total_bc_limit                100.00\n",
       "total_il_high_credit_limit    100.00\n",
       "Length: 68, dtype: float64"
      ]
     },
     "execution_count": 6,
     "metadata": {},
     "output_type": "execute_result"
    }
   ],
   "source": [
    "missing = round(100*(loan.isnull().sum()/len(loan.id)), 2)\n",
    "missing.loc[missing > 0]"
   ]
  },
  {
   "cell_type": "markdown",
   "metadata": {},
   "source": [
    "There are many columns in the data with 100% missing values. Lets remove all the columns with more than 50% missing values."
   ]
  },
  {
   "cell_type": "code",
   "execution_count": 7,
   "metadata": {},
   "outputs": [
    {
     "data": {
      "text/plain": [
       "57"
      ]
     },
     "execution_count": 7,
     "metadata": {},
     "output_type": "execute_result"
    }
   ],
   "source": [
    "columns_with_missing_values = list(missing[missing >= 50].index)\n",
    "len(columns_with_missing_values)"
   ]
  },
  {
   "cell_type": "markdown",
   "metadata": {},
   "source": [
    "There were **57 columns** with more than 50% values as missing. Removing such columns as these columns clearly add noise and wont help in analysis."
   ]
  },
  {
   "cell_type": "code",
   "execution_count": 8,
   "metadata": {},
   "outputs": [
    {
     "data": {
      "text/plain": [
       "(39717, 54)"
      ]
     },
     "execution_count": 8,
     "metadata": {},
     "output_type": "execute_result"
    }
   ],
   "source": [
    "loan = loan.drop(columns_with_missing_values,axis=1)\n",
    "loan.shape"
   ]
  },
  {
   "cell_type": "markdown",
   "metadata": {},
   "source": [
    "After removing such columns. 54 columns remain.\n",
    "Let's examin further for missing values."
   ]
  },
  {
   "cell_type": "code",
   "execution_count": 9,
   "metadata": {},
   "outputs": [
    {
     "data": {
      "text/plain": [
       "emp_title                      6.19\n",
       "emp_length                     2.71\n",
       "desc                          32.58\n",
       "title                          0.03\n",
       "revol_util                     0.13\n",
       "last_pymnt_d                   0.18\n",
       "last_credit_pull_d             0.01\n",
       "collections_12_mths_ex_med     0.14\n",
       "chargeoff_within_12_mths       0.14\n",
       "pub_rec_bankruptcies           1.75\n",
       "tax_liens                      0.10\n",
       "dtype: float64"
      ]
     },
     "execution_count": 9,
     "metadata": {},
     "output_type": "execute_result"
    }
   ],
   "source": [
    "missing = round(100*(loan.isnull().sum()/len(loan.id)), 2)\n",
    "missing[missing != 0]"
   ]
  },
  {
   "cell_type": "markdown",
   "metadata": {},
   "source": [
    "let's remove the desc column as an equivalent short and consise information is present in the purpose and title column of the data."
   ]
  },
  {
   "cell_type": "code",
   "execution_count": 10,
   "metadata": {},
   "outputs": [],
   "source": [
    "loan = loan.drop('desc',axis=1)"
   ]
  },
  {
   "cell_type": "code",
   "execution_count": 11,
   "metadata": {},
   "outputs": [
    {
     "name": "stdout",
     "output_type": "stream",
     "text": [
      "unique emp_title : 28821\n",
      "unique emp_length : 12\n",
      "unique title : 19616\n",
      "unique revol_util : 1090\n",
      "unique title : 19616\n",
      "unique last_pymnt_d : 102\n",
      "unique last_credit_pull_d : 107\n",
      "unique collections_12_mths_ex_med : 2\n",
      "unique chargeoff_within_12_mths : 2\n",
      "unique pub_rec_bankruptcies : 4\n",
      "unique tax_liens : 2\n"
     ]
    }
   ],
   "source": [
    "print(\"unique emp_title : %d\"  % len(loan.emp_title.unique()))\n",
    "print(\"unique emp_length : %d\"  % len(loan.emp_length.unique()))\n",
    "print(\"unique title : %d\"  % len(loan.title.unique()))\n",
    "print(\"unique revol_util : %d\"  % len(loan.revol_util.unique()))\n",
    "print(\"unique title : %d\"  % len(loan.title.unique()))\n",
    "print(\"unique last_pymnt_d : %d\"  % len(loan.last_pymnt_d.unique()))\n",
    "print(\"unique last_credit_pull_d : %d\"  % len(loan.last_credit_pull_d.unique()))\n",
    "print(\"unique collections_12_mths_ex_med : %d\"  % len(loan.collections_12_mths_ex_med.unique()))\n",
    "print(\"unique chargeoff_within_12_mths : %d\"  % len(loan.chargeoff_within_12_mths.unique()))\n",
    "print(\"unique pub_rec_bankruptcies : %d\"  % len(loan.pub_rec_bankruptcies.unique()))\n",
    "print(\"unique tax_liens : %d\"  % len(loan.tax_liens.unique()))"
   ]
  },
  {
   "cell_type": "markdown",
   "metadata": {},
   "source": [
    "Columns emp_length, collections_12_mths_ex_med, chargeoff_within_12_mths, pub_rec_bankruptcies and tax_liens are clearly **Categorical** with values belonging to a range.\n",
    "\n",
    "Let's take a look at all the different values of these Categorical columns"
   ]
  },
  {
   "cell_type": "code",
   "execution_count": 12,
   "metadata": {},
   "outputs": [
    {
     "data": {
      "text/plain": [
       "array(['10+ years', '< 1 year', '1 year', '3 years', '8 years', '9 years',\n",
       "       '4 years', '5 years', '6 years', '2 years', '7 years', nan],\n",
       "      dtype=object)"
      ]
     },
     "execution_count": 12,
     "metadata": {},
     "output_type": "execute_result"
    }
   ],
   "source": [
    "loan.emp_length.unique()"
   ]
  },
  {
   "cell_type": "code",
   "execution_count": 13,
   "metadata": {},
   "outputs": [
    {
     "data": {
      "text/plain": [
       "array([ 0., nan])"
      ]
     },
     "execution_count": 13,
     "metadata": {},
     "output_type": "execute_result"
    }
   ],
   "source": [
    "loan.collections_12_mths_ex_med.unique()"
   ]
  },
  {
   "cell_type": "code",
   "execution_count": 14,
   "metadata": {},
   "outputs": [
    {
     "data": {
      "text/plain": [
       "array([ 0., nan])"
      ]
     },
     "execution_count": 14,
     "metadata": {},
     "output_type": "execute_result"
    }
   ],
   "source": [
    "loan.chargeoff_within_12_mths.unique()"
   ]
  },
  {
   "cell_type": "code",
   "execution_count": 15,
   "metadata": {},
   "outputs": [
    {
     "data": {
      "text/plain": [
       "array([ 0.,  1.,  2., nan])"
      ]
     },
     "execution_count": 15,
     "metadata": {},
     "output_type": "execute_result"
    }
   ],
   "source": [
    "loan.pub_rec_bankruptcies.unique()"
   ]
  },
  {
   "cell_type": "code",
   "execution_count": 16,
   "metadata": {},
   "outputs": [
    {
     "data": {
      "text/plain": [
       "array([ 0., nan])"
      ]
     },
     "execution_count": 16,
     "metadata": {},
     "output_type": "execute_result"
    }
   ],
   "source": [
    "loan.tax_liens.unique()"
   ]
  },
  {
   "cell_type": "markdown",
   "metadata": {},
   "source": [
    "The columns collections_12_mths_ex_med, chargeoff_within_12_mths and tax_liens has either value of 0 or nan(no entry/blank). The range of values that these categorical columns can take is not of any significant impact to the analysis.\n",
    "<br> We can decide to drop these columns for analysis."
   ]
  },
  {
   "cell_type": "code",
   "execution_count": 17,
   "metadata": {},
   "outputs": [],
   "source": [
    "drop_columnlist = ['collections_12_mths_ex_med', 'chargeoff_within_12_mths', 'tax_liens']\n",
    "loan = loan.drop(drop_columnlist,axis=1)"
   ]
  },
  {
   "cell_type": "code",
   "execution_count": 18,
   "metadata": {},
   "outputs": [
    {
     "data": {
      "text/plain": [
       "(39717, 50)"
      ]
     },
     "execution_count": 18,
     "metadata": {},
     "output_type": "execute_result"
    }
   ],
   "source": [
    "loan.shape"
   ]
  },
  {
   "cell_type": "markdown",
   "metadata": {},
   "source": [
    "Next, lets look at the pub_rec_bankruptcies categorical column with 1.76% missing data. It tells us about the past number of public record bankruptcies of that borrower."
   ]
  },
  {
   "cell_type": "code",
   "execution_count": 19,
   "metadata": {},
   "outputs": [
    {
     "data": {
      "text/plain": [
       "0.0    37339\n",
       "1.0     1674\n",
       "2.0        7\n",
       "Name: pub_rec_bankruptcies, dtype: int64"
      ]
     },
     "execution_count": 19,
     "metadata": {},
     "output_type": "execute_result"
    }
   ],
   "source": [
    "loan.pub_rec_bankruptcies.value_counts()"
   ]
  },
  {
   "cell_type": "markdown",
   "metadata": {},
   "source": [
    "pub_rec_bankruptcies can be seen to have taking values like [0,1,2]. Almost 35000 records with 0 record of bankrupcies, 1500 records having one bankrupcies case and 7 records with two bankrupcies case.\n",
    "While we could have taken the mode representation of the data which is 0 bankrupcies to impute the missing values. But, we decide to remove the rows instead so that we ensure we dont add any bais to the data."
   ]
  },
  {
   "cell_type": "code",
   "execution_count": 20,
   "metadata": {},
   "outputs": [],
   "source": [
    "loan=loan[~loan.pub_rec_bankruptcies.isnull()]"
   ]
  },
  {
   "cell_type": "code",
   "execution_count": 21,
   "metadata": {},
   "outputs": [
    {
     "data": {
      "text/plain": [
       "emp_title       6.19\n",
       "emp_length      2.75\n",
       "title           0.03\n",
       "revol_util      0.13\n",
       "last_pymnt_d    0.18\n",
       "dtype: float64"
      ]
     },
     "execution_count": 21,
     "metadata": {},
     "output_type": "execute_result"
    }
   ],
   "source": [
    "missing = round(100*(loan.isnull().sum()/len(loan.id)), 2) \n",
    "missing[missing != 0]"
   ]
  },
  {
   "cell_type": "markdown",
   "metadata": {},
   "source": [
    "Next, the columns emp_title, emp_length have 6.19% and 2.71% missing value. These columns have information about the customer/borrower like their job title and their employment length in years. Let's remove the rows with nan/blank values for these varaibles."
   ]
  },
  {
   "cell_type": "code",
   "execution_count": 22,
   "metadata": {},
   "outputs": [],
   "source": [
    "loan=loan[~loan.emp_title.isnull()]\n",
    "loan=loan[~loan.emp_length.isnull()]"
   ]
  },
  {
   "cell_type": "code",
   "execution_count": 23,
   "metadata": {},
   "outputs": [
    {
     "data": {
      "text/plain": [
       "(36548, 50)"
      ]
     },
     "execution_count": 23,
     "metadata": {},
     "output_type": "execute_result"
    }
   ],
   "source": [
    "loan.shape"
   ]
  },
  {
   "cell_type": "code",
   "execution_count": 24,
   "metadata": {},
   "outputs": [
    {
     "data": {
      "text/plain": [
       "title           0.02\n",
       "revol_util      0.13\n",
       "last_pymnt_d    0.18\n",
       "dtype: float64"
      ]
     },
     "execution_count": 24,
     "metadata": {},
     "output_type": "execute_result"
    }
   ],
   "source": [
    "missing = round(100*(loan.isnull().sum()/len(loan.id)), 2) \n",
    "missing[missing != 0]"
   ]
  },
  {
   "cell_type": "markdown",
   "metadata": {},
   "source": [
    "Now, we are left with 3 columns title, revol_util and last_pymnt_d which account for a very small % of missing value of 0.02%, 0.13% and 0.18% respectively.\n",
    "title gives the title of the loan specified by the borrower in the application.\n",
    "revol_util gives the revolving line utelization and\n",
    "last_pymnt_d gives the month in which last payment was received.\n",
    "\n",
    "Let's again remove the rows with null value for these variables."
   ]
  },
  {
   "cell_type": "code",
   "execution_count": 25,
   "metadata": {},
   "outputs": [],
   "source": [
    "loan=loan[~loan.title.isnull()]\n",
    "loan=loan[~loan.revol_util.isnull()]\n",
    "loan=loan[~loan.last_pymnt_d.isnull()]"
   ]
  },
  {
   "cell_type": "code",
   "execution_count": 26,
   "metadata": {},
   "outputs": [
    {
     "data": {
      "text/plain": [
       "(36433, 50)"
      ]
     },
     "execution_count": 26,
     "metadata": {},
     "output_type": "execute_result"
    }
   ],
   "source": [
    "loan.shape"
   ]
  },
  {
   "cell_type": "code",
   "execution_count": 27,
   "metadata": {},
   "outputs": [
    {
     "data": {
      "text/plain": [
       "Series([], dtype: float64)"
      ]
     },
     "execution_count": 27,
     "metadata": {},
     "output_type": "execute_result"
    }
   ],
   "source": [
    "missing =round(100*(loan.isnull().sum()/len(loan.id)), 2) \n",
    "missing[missing != 0]"
   ]
  },
  {
   "cell_type": "markdown",
   "metadata": {},
   "source": [
    "Now, we have now reduced the data set to have 36433 loan records and 50 attributes with no missing values. Let's write it into another file and use that file for further analysis."
   ]
  },
  {
   "cell_type": "code",
   "execution_count": 28,
   "metadata": {},
   "outputs": [],
   "source": [
    "loan.to_csv('clean_loan.csv', encoding='utf-8', index=False)"
   ]
  },
  {
   "cell_type": "markdown",
   "metadata": {},
   "source": [
    "### Further shortlist and narrow down the columns for analysis "
   ]
  },
  {
   "cell_type": "code",
   "execution_count": 29,
   "metadata": {},
   "outputs": [],
   "source": [
    "clean_loan = loan[:]"
   ]
  },
  {
   "cell_type": "code",
   "execution_count": 30,
   "metadata": {},
   "outputs": [
    {
     "data": {
      "text/plain": [
       "acc_now_delinq                 1\n",
       "application_type               1\n",
       "policy_code                    1\n",
       "initial_list_status            1\n",
       "delinq_amnt                    1\n",
       "pymnt_plan                     1\n",
       "term                           2\n",
       "pub_rec_bankruptcies           3\n",
       "loan_status                    3\n",
       "verification_status            3\n",
       "home_ownership                 4\n",
       "pub_rec                        5\n",
       "grade                          7\n",
       "inq_last_6mths                 9\n",
       "delinq_2yrs                   11\n",
       "emp_length                    11\n",
       "purpose                       14\n",
       "sub_grade                     35\n",
       "open_acc                      38\n",
       "addr_state                    49\n",
       "issue_d                       52\n",
       "total_acc                     79\n",
       "last_credit_pull_d            96\n",
       "last_pymnt_d                  97\n",
       "int_rate                     334\n",
       "earliest_cr_line             510\n",
       "zip_code                     806\n",
       "loan_amnt                    863\n",
       "funded_amnt                 1024\n",
       "out_prncp                   1064\n",
       "out_prncp_inv               1065\n",
       "revol_util                  1082\n",
       "total_rec_late_fee          1194\n",
       "collection_recovery_fee     2386\n",
       "dti                         2857\n",
       "recoveries                  3585\n",
       "annual_inc                  4924\n",
       "total_rec_prncp             7254\n",
       "funded_amnt_inv             7474\n",
       "installment                14367\n",
       "title                      17954\n",
       "revol_bal                  20790\n",
       "emp_title                  28207\n",
       "last_pymnt_amnt            32467\n",
       "total_rec_int              32523\n",
       "total_pymnt_inv            34524\n",
       "total_pymnt                34802\n",
       "url                        36433\n",
       "member_id                  36433\n",
       "id                         36433\n",
       "dtype: int64"
      ]
     },
     "execution_count": 30,
     "metadata": {},
     "output_type": "execute_result"
    }
   ],
   "source": [
    "clean_loan.nunique().sort_values()"
   ]
  },
  {
   "cell_type": "markdown",
   "metadata": {},
   "source": [
    "A data dictionary file is also been provided along with the loan data. This file gives a brief describtion about all the columns of the loan transaction file.\n",
    "Let's use this file to get a better understanding of the 50 columns we are left with.\n",
    "This will help to further narrow down on the columns."
   ]
  },
  {
   "cell_type": "markdown",
   "metadata": {},
   "source": [
    "There are a few columns having a single unique value or all unique values. These may have nothing much to contribute to the analysis i.e. columns which are far from being the driving columns towards loan default. Some other columns are redundant.\n",
    "\n",
    "These columns are:\n",
    "\n",
    "1. **id** : is a random number given to the loan, does not contribute to analysis\n",
    "2. **member_id** : is a random number given to the member, does not contribute to analysis\n",
    "3. **pymnt_plan** : value for entire dataset is 'n', therefore can be removed.\n",
    "4. **url** : is a URL for LC page for corresponding to each memberid, nothing to do with loan default.\n",
    "5. **zip_code** : first 3 digits of the 5 digit zip code are visible, also is redundant with addr_state, does not contribute to analysis\n",
    "6. **initial_list_status** : value for entire dataset is 'f' out of the possible values, therefore can be removed.\n",
    "7. **policy_code** : value for entire dataset is '1', indicating all are publicly available, therefore nothing to contribute for analysis, to be removed.\n",
    "8. **application_type** : value for entire dataset is 'INDIVIDUAL', indicating all are individual applications not joint, therefore nothing to contribute for analysis, to be removed.\n",
    "9. **acc_now_delinq** : value for entire dataset is '0', therefore can be removed.\n",
    "10. **delinq_amnt** : value for entire dataset is '0', therefore can be removed.\n",
    "11. **funded_amnt** : value for this column is almost equivalent to loan_amnt. removing to avoid multi colinearity.\n",
    "12. **funded_amnt_inv** : value for this column is almost equivalent to funded_amnt. removing to avoid multi colinearity. Also this wont be available at the time of decision making of funding a loan."
   ]
  },
  {
   "cell_type": "markdown",
   "metadata": {},
   "source": [
    "Dropping the above columns from the clean_loan dataframe."
   ]
  },
  {
   "cell_type": "code",
   "execution_count": 31,
   "metadata": {},
   "outputs": [],
   "source": [
    "columns_tobe_dropped = ['id','member_id','funded_amnt','funded_amnt_inv','pymnt_plan','url','zip_code','initial_list_status','policy_code','application_type','acc_now_delinq','delinq_amnt',]\n",
    "clean_loan= clean_loan.drop(columns_tobe_dropped,axis=1)"
   ]
  },
  {
   "cell_type": "code",
   "execution_count": 32,
   "metadata": {},
   "outputs": [
    {
     "data": {
      "text/plain": [
       "(36433, 38)"
      ]
     },
     "execution_count": 32,
     "metadata": {},
     "output_type": "execute_result"
    }
   ],
   "source": [
    "clean_loan.shape"
   ]
  },
  {
   "cell_type": "markdown",
   "metadata": {},
   "source": [
    "Columns for analysis reduced to 38 columns."
   ]
  },
  {
   "cell_type": "markdown",
   "metadata": {},
   "source": [
    "Next, let's standardize the precision of the data. There are certain columns with need rounding of the values up until two decimal places.\n",
    "\n",
    "These columns are:\n",
    "\n",
    "1. total_pymnt\n",
    "2. total_rec_late_fee\n",
    "3. collection_recovery_fee"
   ]
  },
  {
   "cell_type": "code",
   "execution_count": 33,
   "metadata": {},
   "outputs": [
    {
     "data": {
      "text/plain": [
       "5517.160000     1\n",
       "12878.238670    1\n",
       "4348.288927     1\n",
       "8954.809409     1\n",
       "4608.000000     1\n",
       "Name: total_pymnt, dtype: int64"
      ]
     },
     "execution_count": 33,
     "metadata": {},
     "output_type": "execute_result"
    }
   ],
   "source": [
    "clean_loan.total_pymnt.value_counts().tail()"
   ]
  },
  {
   "cell_type": "code",
   "execution_count": 34,
   "metadata": {},
   "outputs": [
    {
     "data": {
      "text/plain": [
       "29.914662    1\n",
       "23.820000    1\n",
       "15.610000    1\n",
       "59.781000    1\n",
       "14.944409    1\n",
       "Name: total_rec_late_fee, dtype: int64"
      ]
     },
     "execution_count": 34,
     "metadata": {},
     "output_type": "execute_result"
    }
   ],
   "source": [
    "clean_loan.total_rec_late_fee.value_counts().tail()"
   ]
  },
  {
   "cell_type": "code",
   "execution_count": 35,
   "metadata": {},
   "outputs": [
    {
     "data": {
      "text/plain": [
       "18.3264     1\n",
       "198.4078    1\n",
       "9.6738      1\n",
       "33.2896     1\n",
       "93.3678     1\n",
       "Name: collection_recovery_fee, dtype: int64"
      ]
     },
     "execution_count": 35,
     "metadata": {},
     "output_type": "execute_result"
    }
   ],
   "source": [
    "clean_loan.collection_recovery_fee.value_counts().tail()"
   ]
  },
  {
   "cell_type": "code",
   "execution_count": 36,
   "metadata": {},
   "outputs": [],
   "source": [
    "clean_loan.total_pymnt= round(clean_loan.total_pymnt,2)\n",
    "clean_loan.total_rec_late_fee= round(clean_loan.total_rec_late_fee,2)\n",
    "clean_loan.collection_recovery_fee= round(clean_loan.collection_recovery_fee,2)"
   ]
  },
  {
   "cell_type": "markdown",
   "metadata": {},
   "source": [
    "Next, there are few columns which denote date or month information but are of the type object in the dataframe. Let's change the dtype of all such columns to datetime. Doing so will help in further using these column values to its best for analysis.\n",
    "\n",
    "These columns are:\n",
    "\n",
    "1. issue_d\n",
    "2. earliest_cr_line\n",
    "3. last_pymnt_d\n",
    "4. last_credit_pull_d"
   ]
  },
  {
   "cell_type": "code",
   "execution_count": 37,
   "metadata": {},
   "outputs": [
    {
     "name": "stdout",
     "output_type": "stream",
     "text": [
      "<class 'pandas.core.frame.DataFrame'>\n",
      "Int64Index: 36433 entries, 1 to 39680\n",
      "Data columns (total 4 columns):\n",
      "issue_d               36433 non-null object\n",
      "earliest_cr_line      36433 non-null object\n",
      "last_pymnt_d          36433 non-null object\n",
      "last_credit_pull_d    36433 non-null object\n",
      "dtypes: object(4)\n",
      "memory usage: 1.4+ MB\n"
     ]
    }
   ],
   "source": [
    "datetime_colmns=['issue_d','earliest_cr_line','last_pymnt_d','last_credit_pull_d']\n",
    "clean_loan[datetime_colmns].info()"
   ]
  },
  {
   "cell_type": "markdown",
   "metadata": {},
   "source": [
    "Converting the dtype of these columns to datetime"
   ]
  },
  {
   "cell_type": "code",
   "execution_count": 38,
   "metadata": {},
   "outputs": [],
   "source": [
    "clean_loan.issue_d = pd.to_datetime(clean_loan.issue_d, format='%b-%y')\n",
    "clean_loan.earliest_cr_line = pd.to_datetime(clean_loan.earliest_cr_line, format='%b-%y')\n",
    "clean_loan.last_pymnt_d = pd.to_datetime(clean_loan.last_pymnt_d, format='%b-%y')\n",
    "clean_loan.last_credit_pull_d = pd.to_datetime(clean_loan.last_credit_pull_d, format='%b-%y')"
   ]
  },
  {
   "cell_type": "code",
   "execution_count": 39,
   "metadata": {},
   "outputs": [
    {
     "name": "stdout",
     "output_type": "stream",
     "text": [
      "<class 'pandas.core.frame.DataFrame'>\n",
      "Int64Index: 36433 entries, 1 to 39680\n",
      "Data columns (total 4 columns):\n",
      "issue_d               36433 non-null datetime64[ns]\n",
      "earliest_cr_line      36433 non-null datetime64[ns]\n",
      "last_pymnt_d          36433 non-null datetime64[ns]\n",
      "last_credit_pull_d    36433 non-null datetime64[ns]\n",
      "dtypes: datetime64[ns](4)\n",
      "memory usage: 1.4 MB\n"
     ]
    }
   ],
   "source": [
    "clean_loan[datetime_colmns].info()"
   ]
  },
  {
   "cell_type": "markdown",
   "metadata": {},
   "source": [
    "Dropping Duplicated rows if any,"
   ]
  },
  {
   "cell_type": "code",
   "execution_count": 40,
   "metadata": {},
   "outputs": [
    {
     "data": {
      "text/plain": [
       "(36433, 38)"
      ]
     },
     "execution_count": 40,
     "metadata": {},
     "output_type": "execute_result"
    }
   ],
   "source": [
    "clean_loan=clean_loan.drop_duplicates()\n",
    "clean_loan.shape"
   ]
  },
  {
   "cell_type": "markdown",
   "metadata": {},
   "source": [
    "Next, there are few columns expressing % like int_rate and revol_util.\n",
    "These has values like '15.27%' and '9.40%'.\n",
    "Further these columns has dtype as 'object'. Let's convert these columns to have just the value withoout '%' and typecast it to float."
   ]
  },
  {
   "cell_type": "code",
   "execution_count": 41,
   "metadata": {},
   "outputs": [
    {
     "data": {
      "text/plain": [
       "count      36433\n",
       "unique       334\n",
       "top       10.99%\n",
       "freq         901\n",
       "Name: int_rate, dtype: object"
      ]
     },
     "execution_count": 41,
     "metadata": {},
     "output_type": "execute_result"
    }
   ],
   "source": [
    "clean_loan.int_rate.describe()"
   ]
  },
  {
   "cell_type": "code",
   "execution_count": 42,
   "metadata": {},
   "outputs": [
    {
     "data": {
      "text/plain": [
       "count     36433\n",
       "unique     1082\n",
       "top          0%\n",
       "freq        852\n",
       "Name: revol_util, dtype: object"
      ]
     },
     "execution_count": 42,
     "metadata": {},
     "output_type": "execute_result"
    }
   ],
   "source": [
    "clean_loan.revol_util.describe()"
   ]
  },
  {
   "cell_type": "code",
   "execution_count": 43,
   "metadata": {},
   "outputs": [],
   "source": [
    "clean_loan['int_rate'] = clean_loan['int_rate'].str.strip('%').astype('float')\n",
    "clean_loan['revol_util'] = clean_loan['revol_util'].str.strip('%').astype('float')"
   ]
  },
  {
   "cell_type": "code",
   "execution_count": 44,
   "metadata": {},
   "outputs": [
    {
     "name": "stdout",
     "output_type": "stream",
     "text": [
      "<class 'pandas.core.frame.DataFrame'>\n",
      "Int64Index: 36433 entries, 1 to 39680\n",
      "Data columns (total 2 columns):\n",
      "int_rate      36433 non-null float64\n",
      "revol_util    36433 non-null float64\n",
      "dtypes: float64(2)\n",
      "memory usage: 853.9 KB\n"
     ]
    }
   ],
   "source": [
    "clean_loan[['int_rate','revol_util']].info()"
   ]
  },
  {
   "cell_type": "markdown",
   "metadata": {},
   "source": [
    "Let us now take a look at the __emp_length__ column."
   ]
  },
  {
   "cell_type": "code",
   "execution_count": 45,
   "metadata": {},
   "outputs": [
    {
     "data": {
      "text/plain": [
       "10+ years    8407\n",
       "2 years      4178\n",
       "< 1 year     4052\n",
       "3 years      3914\n",
       "4 years      3297\n",
       "5 years      3129\n",
       "1 year       3026\n",
       "6 years      2121\n",
       "7 years      1697\n",
       "8 years      1405\n",
       "9 years      1207\n",
       "Name: emp_length, dtype: int64"
      ]
     },
     "execution_count": 45,
     "metadata": {},
     "output_type": "execute_result"
    }
   ],
   "source": [
    "clean_loan.emp_length.value_counts()"
   ]
  },
  {
   "cell_type": "markdown",
   "metadata": {},
   "source": [
    "According to the data_dictionary file description for this field,\n",
    "emp_length: Employment length in years. Possible values are between 0 and 10 where 0 means less than one year and 10 means ten or more years.\n",
    "Let's convert the column to have values between 0 and 10."
   ]
  },
  {
   "cell_type": "code",
   "execution_count": 47,
   "metadata": {},
   "outputs": [],
   "source": [
    "emp_length_dict = {\n",
    "    '< 1 year' : 0,\n",
    "    '1 year' : 1,\n",
    "    '2 years' : 2,\n",
    "    '3 years' : 3,\n",
    "    '4 years' : 4,\n",
    "    '5 years' : 5,\n",
    "    '6 years' : 6,\n",
    "    '7 years' : 7,\n",
    "    '8 years' : 8,\n",
    "    '9 years' : 9,\n",
    "    '10+ years' : 10\n",
    "}"
   ]
  },
  {
   "cell_type": "code",
   "execution_count": 48,
   "metadata": {},
   "outputs": [],
   "source": [
    "clean_loan = clean_loan.replace({\"emp_length\": emp_length_dict })"
   ]
  },
  {
   "cell_type": "code",
   "execution_count": 49,
   "metadata": {},
   "outputs": [
    {
     "data": {
      "text/plain": [
       "10    8407\n",
       "2     4178\n",
       "0     4052\n",
       "3     3914\n",
       "4     3297\n",
       "5     3129\n",
       "1     3026\n",
       "6     2121\n",
       "7     1697\n",
       "8     1405\n",
       "9     1207\n",
       "Name: emp_length, dtype: int64"
      ]
     },
     "execution_count": 49,
     "metadata": {},
     "output_type": "execute_result"
    }
   ],
   "source": [
    "clean_loan.emp_length.value_counts()"
   ]
  },
  {
   "cell_type": "markdown",
   "metadata": {},
   "source": [
    "The column term: The number of payments on the loan. Values are in months and can be either 36 or 60.\n",
    "<br> removing the months string from within the column term."
   ]
  },
  {
   "cell_type": "code",
   "execution_count": 50,
   "metadata": {},
   "outputs": [
    {
     "data": {
      "text/plain": [
       " 36 months    26377\n",
       " 60 months    10056\n",
       "Name: term, dtype: int64"
      ]
     },
     "execution_count": 50,
     "metadata": {},
     "output_type": "execute_result"
    }
   ],
   "source": [
    "clean_loan.term.value_counts()"
   ]
  },
  {
   "cell_type": "code",
   "execution_count": 51,
   "metadata": {},
   "outputs": [
    {
     "data": {
      "text/plain": [
       "36    26377\n",
       "60    10056\n",
       "Name: term, dtype: int64"
      ]
     },
     "execution_count": 51,
     "metadata": {},
     "output_type": "execute_result"
    }
   ],
   "source": [
    "clean_loan['term'] = clean_loan.term.apply(lambda x: x.split()[0])\n",
    "clean_loan.term.value_counts()"
   ]
  },
  {
   "cell_type": "markdown",
   "metadata": {},
   "source": [
    "**earliest_cr_line** : The month the borrower's earliest reported credit line was opened. Let's split the date column into earliest_cr_line_month and earliest_cr_line_year"
   ]
  },
  {
   "cell_type": "markdown",
   "metadata": {},
   "source": [
    "Lets split the available date into month and year column."
   ]
  },
  {
   "cell_type": "code",
   "execution_count": 52,
   "metadata": {},
   "outputs": [
    {
     "data": {
      "text/plain": [
       "50"
      ]
     },
     "execution_count": 52,
     "metadata": {},
     "output_type": "execute_result"
    }
   ],
   "source": [
    "clean_loan['earliest_cr_line_month'] = clean_loan['earliest_cr_line'].dt.month\n",
    "clean_loan['earliest_cr_line_year'] = clean_loan['earliest_cr_line'].dt.year\n",
    "len(clean_loan[clean_loan['earliest_cr_line_year'] > 2011 ])"
   ]
  },
  {
   "cell_type": "markdown",
   "metadata": {},
   "source": [
    "We see that there are 50 records with the earliest credit line date greater than 2011(which is the max range of the data we have).\n",
    "Lets see the data to understand why."
   ]
  },
  {
   "cell_type": "code",
   "execution_count": 53,
   "metadata": {},
   "outputs": [
    {
     "data": {
      "text/plain": [
       "array([2068, 2067, 2065, 2063, 2066, 2062, 2056, 2046, 2050, 2064, 2054])"
      ]
     },
     "execution_count": 53,
     "metadata": {},
     "output_type": "execute_result"
    }
   ],
   "source": [
    "clean_loan[clean_loan['earliest_cr_line_year'] > 2011 ]['earliest_cr_line_year'].unique()"
   ]
  },
  {
   "cell_type": "markdown",
   "metadata": {},
   "source": [
    "This seems to be a result of y2k like error. Year stored in two digits being interpreted as year in 21st century. Let's fix the entries. "
   ]
  },
  {
   "cell_type": "code",
   "execution_count": 54,
   "metadata": {},
   "outputs": [
    {
     "data": {
      "text/plain": [
       "earliest_cr_line_year\n",
       "1946       1\n",
       "1950       1\n",
       "1954       1\n",
       "1956       1\n",
       "1962       3\n",
       "1963       4\n",
       "1964       2\n",
       "1965       6\n",
       "1966       7\n",
       "1967      12\n",
       "1968      12\n",
       "1969      22\n",
       "1970      35\n",
       "1971      34\n",
       "1972      33\n",
       "1973      41\n",
       "1974      51\n",
       "1975      57\n",
       "1976      73\n",
       "1977      90\n",
       "1978     130\n",
       "1979     141\n",
       "1980     150\n",
       "1981     154\n",
       "1982     196\n",
       "1983     296\n",
       "1984     360\n",
       "1985     406\n",
       "1986     447\n",
       "1987     565\n",
       "1988     671\n",
       "1989     781\n",
       "1990     944\n",
       "1991     884\n",
       "1992     970\n",
       "1993    1398\n",
       "1994    1860\n",
       "1995    1974\n",
       "1996    2074\n",
       "1997    2271\n",
       "1998    2645\n",
       "1999    2763\n",
       "2000    3034\n",
       "2001    2363\n",
       "2002    1794\n",
       "2003    1740\n",
       "2004    1639\n",
       "2005    1406\n",
       "2006    1079\n",
       "2007     668\n",
       "2008     144\n",
       "Name: loan_amnt, dtype: int64"
      ]
     },
     "execution_count": 54,
     "metadata": {},
     "output_type": "execute_result"
    }
   ],
   "source": [
    "clean_loan.loc[clean_loan['earliest_cr_line_year'] > 2011 , 'earliest_cr_line_year'] = clean_loan['earliest_cr_line_year'] - 100\n",
    "clean_loan.groupby('earliest_cr_line_year').loan_amnt.count()"
   ]
  },
  {
   "cell_type": "markdown",
   "metadata": {},
   "source": [
    "**issue_d:** The month which the loan was funded .Lets split the available date into month and year column."
   ]
  },
  {
   "cell_type": "code",
   "execution_count": 55,
   "metadata": {},
   "outputs": [],
   "source": [
    "clean_loan['issue_d_month'] = clean_loan['issue_d'].dt.month\n",
    "clean_loan['issue_d_year'] = clean_loan['issue_d'].dt.year"
   ]
  },
  {
   "cell_type": "markdown",
   "metadata": {},
   "source": [
    "Writing the ready to analyse data to a csv. We will use this new csv for ease in further analysis."
   ]
  },
  {
   "cell_type": "code",
   "execution_count": 56,
   "metadata": {},
   "outputs": [],
   "source": [
    "clean_loan.to_csv('final_loan.csv', encoding='utf-8', index=False)"
   ]
  },
  {
   "cell_type": "markdown",
   "metadata": {},
   "source": [
    "## Analysis"
   ]
  },
  {
   "cell_type": "markdown",
   "metadata": {},
   "source": [
    "Load the final data for further anaysis."
   ]
  },
  {
   "cell_type": "code",
   "execution_count": 57,
   "metadata": {},
   "outputs": [
    {
     "data": {
      "text/plain": [
       "(36433, 42)"
      ]
     },
     "execution_count": 57,
     "metadata": {},
     "output_type": "execute_result"
    }
   ],
   "source": [
    "final_loan = clean_loan[:]\n",
    "final_loan.shape"
   ]
  },
  {
   "cell_type": "code",
   "execution_count": 58,
   "metadata": {},
   "outputs": [
    {
     "data": {
      "text/plain": [
       "Fully Paid     30424\n",
       "Charged Off     4943\n",
       "Current         1066\n",
       "Name: loan_status, dtype: int64"
      ]
     },
     "execution_count": 58,
     "metadata": {},
     "output_type": "execute_result"
    }
   ],
   "source": [
    "final_loan.loan_status.value_counts()"
   ]
  },
  {
   "cell_type": "markdown",
   "metadata": {},
   "source": [
    "Since we need to understand differences in the features between loans that have been fully paid or charged off. Let's not consider loans that are current. So we only keep the loans with status \"Fully Paid\" or \"Charged Off.\""
   ]
  },
  {
   "cell_type": "code",
   "execution_count": 59,
   "metadata": {},
   "outputs": [
    {
     "data": {
      "text/plain": [
       "(35367, 42)"
      ]
     },
     "execution_count": 59,
     "metadata": {},
     "output_type": "execute_result"
    }
   ],
   "source": [
    "final_loan = final_loan[final_loan['loan_status'].isin(['Fully Paid','Charged Off'])]\n",
    "final_loan.shape"
   ]
  },
  {
   "cell_type": "markdown",
   "metadata": {},
   "source": [
    "### Univariate and Segmented Univariate Analysis"
   ]
  },
  {
   "cell_type": "markdown",
   "metadata": {},
   "source": [
    "Define a few methods to aid in plotting graphs"
   ]
  },
  {
   "cell_type": "code",
   "execution_count": 60,
   "metadata": {},
   "outputs": [],
   "source": [
    "## Found this solution to show labels in bar plots from https://stackoverflow.com/a/48372659 and edited\n",
    "\n",
    "def showLabels(ax, d=None):\n",
    "    plt.margins(0.2, 0.2)\n",
    "    rects = ax.patches\n",
    "    i = 0\n",
    "    locs, labels = plt.xticks() \n",
    "    counts = {}\n",
    "    if not d is None:\n",
    "        for key, value in d.items():\n",
    "            counts[str(key)] = value\n",
    "\n",
    "    # For each bar: Place a label\n",
    "    for rect in rects:\n",
    "        # Get X and Y placement of label from rect.\n",
    "        y_value = rect.get_height()\n",
    "        x_value = rect.get_x() + rect.get_width() / 2\n",
    "\n",
    "        # Number of points between bar and label. Change to your liking.\n",
    "        space = 5\n",
    "        # Vertical alignment for positive values\n",
    "        va = 'bottom'\n",
    "\n",
    "        # If value of bar is negative: Place label below bar\n",
    "        if y_value < 0:\n",
    "            # Invert space to place label below\n",
    "            space *= -1\n",
    "            # Vertically align label at top\n",
    "            va = 'top'\n",
    "\n",
    "        # Use Y value as label and format number with one decimal place\n",
    "        if d is None:\n",
    "            label = \"{:.1f}%\".format(y_value)\n",
    "        else:\n",
    "            try:\n",
    "                label = \"{:.1f}%\".format(y_value) + \"\\nof \" + str(counts[str(labels[i].get_text())])\n",
    "            except:\n",
    "                label = \"{:.1f}%\".format(y_value)\n",
    "        \n",
    "        i = i+1\n",
    "\n",
    "        # Create annotation\n",
    "        plt.annotate(\n",
    "            label,                      # Use `label` as label\n",
    "            (x_value, y_value),         # Place label at end of the bar\n",
    "            xytext=(0, space),          # Vertically shift label by `space`\n",
    "            textcoords=\"offset points\", # Interpret `xytext` as offset in points\n",
    "            ha='center',                # Horizontally center label\n",
    "            va=va)                      # Vertically align label differently for\n",
    "                                        # positive and negative values."
   ]
  },
  {
   "cell_type": "code",
   "execution_count": 61,
   "metadata": {},
   "outputs": [],
   "source": [
    "# This function plots a given column buckets against loan_status (default = 'Charged Off')\n",
    "# The plots are in percentages \n",
    "# (absolute numbers do not make sense -> category values can have very different absolute numbers)\n",
    "# We want to see what are the chances of some category leading to loan default\n",
    "# Absolute numbers are also printed to assess level of confidence in a % value. \n",
    "\n",
    "def plotLoanStatus(dataframe, by, loanstatus='Charged Off'):\n",
    "    grp = dataframe.groupby(['loan_status',by])[by].count()\n",
    "    cnt = dataframe.groupby(by)[by].count()\n",
    "    #print(grp)\n",
    "    percentages = grp.unstack() * 100 / cnt.T\n",
    "    #print(percentages)\n",
    "    ax = percentages.loc[loanstatus].plot.bar(color=sns.color_palette('husl', 16))\n",
    "    ax.set_ylabel('% of loans ' + loanstatus)\n",
    "    showLabels(ax, grp[loanstatus].to_dict())\n",
    "    plt.margins(0.2, 0.2)\n",
    "    plt.tight_layout()\n",
    "    return ax"
   ]
  },
  {
   "cell_type": "code",
   "execution_count": 62,
   "metadata": {},
   "outputs": [],
   "source": [
    "# This method plots a distribution of target column, and its boxplot against loan_status column\n",
    "\n",
    "def plot_distribution(dataframe, col):\n",
    "    plt.figure(figsize=(15,5))\n",
    "    plt.subplot(1, 2, 1)\n",
    "    ax = sns.distplot(dataframe[col])\n",
    "    plt.subplot(1, 2, 2)\n",
    "    sns.boxplot(x=dataframe[col], y=dataframe['loan_status'], data=dataframe)\n",
    "    plt.show()"
   ]
  },
  {
   "cell_type": "code",
   "execution_count": 63,
   "metadata": {},
   "outputs": [],
   "source": [
    "# This method prints two plots side by side \n",
    "# Left one is percentage of a categorical variable in the entire dataset \n",
    "# Right one is percentage for Charged Off loans \n",
    "# Significant changes in percentage from left to right can indicate a value of interest\n",
    "\n",
    "def plot_percentages(dataframe, by, sortbyindex=False):\n",
    "    plt.subplot(1, 2, 1)\n",
    "    values = (final_loan[by].value_counts(normalize=True)*100)\n",
    "    if sortbyindex:\n",
    "        values = values.sort_index()\n",
    "    ax = values.plot.bar(color=sns.color_palette('husl', 16))\n",
    "    ax.set_ylabel('% in dataset', fontsize=16)\n",
    "    ax.set_xlabel(by, fontsize=12)\n",
    "    showLabels(ax)\n",
    "    plt.subplot(1, 2, 2)\n",
    "    values = (final_loan.loc[final_loan['loan_status']=='Charged Off'][by].value_counts(normalize=True)*100)\n",
    "    if sortbyindex:\n",
    "        values = values.sort_index()\n",
    "    ax = values.plot.bar(color=sns.color_palette('husl', 16))\n",
    "    ax.set_ylabel('% in Charged Off loans', fontsize=16)\n",
    "    showLabels(ax)"
   ]
  },
  {
   "cell_type": "code",
   "execution_count": 64,
   "metadata": {},
   "outputs": [
    {
     "data": {
      "text/plain": [
       "A    25.843300\n",
       "B    30.305087\n",
       "C    20.304238\n",
       "D    13.184607\n",
       "E     7.015014\n",
       "F     2.550400\n",
       "G     0.797353\n",
       "Name: grade, dtype: float64"
      ]
     },
     "execution_count": 64,
     "metadata": {},
     "output_type": "execute_result"
    }
   ],
   "source": [
    "(final_loan['grade'].value_counts(normalize=True)*100).sort_index()"
   ]
  },
  {
   "cell_type": "markdown",
   "metadata": {},
   "source": [
    "**loan_status** : Current status of the loan"
   ]
  },
  {
   "cell_type": "code",
   "execution_count": 65,
   "metadata": {},
   "outputs": [
    {
     "data": {
      "image/png": "[encoded data removed]",
      "text/plain": [
       "<Figure size 360x504 with 1 Axes>"
      ]
     },
     "metadata": {
      "needs_background": "light"
     },
     "output_type": "display_data"
    }
   ],
   "source": [
    "plt.figure(figsize=(5,7))\n",
    "ax = final_loan.groupby('loan_status').loan_amnt.count().plot.bar()\n",
    "showLabels(ax)\n",
    "plt.show()"
   ]
  },
  {
   "cell_type": "code",
   "execution_count": 66,
   "metadata": {},
   "outputs": [
    {
     "name": "stdout",
     "output_type": "stream",
     "text": [
      "13.98\n"
     ]
    }
   ],
   "source": [
    "print(\"%.2f\" % (final_loan.loc[final_loan['loan_status'] == 'Charged Off'].loan_status.count() * 100/len(final_loan)))"
   ]
  },
  {
   "cell_type": "markdown",
   "metadata": {},
   "source": [
    "Approximately 14% of loans in the dataset are defaulted.\n",
    "Any variable that increases percentage of default to higher than 16.5% should be considered a business risk. (16.5 is 18% higher than 13.97 - a large enough increase)"
   ]
  },
  {
   "cell_type": "code",
   "execution_count": 67,
   "metadata": {},
   "outputs": [
    {
     "data": {
      "image/png": "[encoded data removed]",
      "text/plain": [
       "<Figure size 360x504 with 1 Axes>"
      ]
     },
     "metadata": {
      "needs_background": "light"
     },
     "output_type": "display_data"
    }
   ],
   "source": [
    "plt.figure(figsize=(5,7))\n",
    "ax = (final_loan.groupby('loan_status').total_pymnt.sum() * 100 / final_loan.groupby('loan_status').loan_amnt.sum()).plot.bar()\n",
    "ax.set_ylabel('% loan recovered', fontsize=16)\n",
    "plt.margins(0.2, 0.2)\n",
    "showLabels(ax)"
   ]
  },
  {
   "cell_type": "markdown",
   "metadata": {},
   "source": [
    "<mark>Lending Club only recovers 57% of the loan amount when loans are defaulted. On fully paid up loans, the company makes 17% profit. </mark>"
   ]
  },
  {
   "cell_type": "markdown",
   "metadata": {},
   "source": [
    "### Let us see graphs of some other important variables"
   ]
  },
  {
   "cell_type": "markdown",
   "metadata": {},
   "source": [
    "**loan_amnt** : The listed amount of the loan applied for by the borrower. If at some point in time, the credit department reduces the loan amount, then it will be reflected in this value."
   ]
  },
  {
   "cell_type": "code",
   "execution_count": 68,
   "metadata": {},
   "outputs": [
    {
     "data": {
      "image/png": "[encoded data removed]",
      "text/plain": [
       "<Figure size 1080x360 with 2 Axes>"
      ]
     },
     "metadata": {
      "needs_background": "light"
     },
     "output_type": "display_data"
    }
   ],
   "source": [
    "plot_distribution(final_loan, 'loan_amnt')"
   ]
  },
  {
   "cell_type": "code",
   "execution_count": 69,
   "metadata": {},
   "outputs": [
    {
     "data": {
      "text/html": [
       "<div>\n",
       "<style scoped>\n",
       "    .dataframe tbody tr th:only-of-type {\n",
       "        vertical-align: middle;\n",
       "    }\n",
       "\n",
       "    .dataframe tbody tr th {\n",
       "        vertical-align: top;\n",
       "    }\n",
       "\n",
       "    .dataframe thead th {\n",
       "        text-align: right;\n",
       "    }\n",
       "</style>\n",
       "<table border=\"1\" class=\"dataframe\">\n",
       "  <thead>\n",
       "    <tr style=\"text-align: right;\">\n",
       "      <th></th>\n",
       "      <th>count</th>\n",
       "      <th>mean</th>\n",
       "      <th>std</th>\n",
       "      <th>min</th>\n",
       "      <th>25%</th>\n",
       "      <th>50%</th>\n",
       "      <th>75%</th>\n",
       "      <th>max</th>\n",
       "    </tr>\n",
       "    <tr>\n",
       "      <th>loan_status</th>\n",
       "      <th></th>\n",
       "      <th></th>\n",
       "      <th></th>\n",
       "      <th></th>\n",
       "      <th></th>\n",
       "      <th></th>\n",
       "      <th></th>\n",
       "      <th></th>\n",
       "    </tr>\n",
       "  </thead>\n",
       "  <tbody>\n",
       "    <tr>\n",
       "      <td>Charged Off</td>\n",
       "      <td>4943.0</td>\n",
       "      <td>12286.147077</td>\n",
       "      <td>8064.255961</td>\n",
       "      <td>1000.0</td>\n",
       "      <td>6000.0</td>\n",
       "      <td>10000.0</td>\n",
       "      <td>17000.0</td>\n",
       "      <td>35000.0</td>\n",
       "    </tr>\n",
       "    <tr>\n",
       "      <td>Fully Paid</td>\n",
       "      <td>30424.0</td>\n",
       "      <td>10945.731166</td>\n",
       "      <td>7181.867451</td>\n",
       "      <td>500.0</td>\n",
       "      <td>5500.0</td>\n",
       "      <td>9600.0</td>\n",
       "      <td>15000.0</td>\n",
       "      <td>35000.0</td>\n",
       "    </tr>\n",
       "  </tbody>\n",
       "</table>\n",
       "</div>"
      ],
      "text/plain": [
       "               count          mean          std     min     25%      50%  \\\n",
       "loan_status                                                                \n",
       "Charged Off   4943.0  12286.147077  8064.255961  1000.0  6000.0  10000.0   \n",
       "Fully Paid   30424.0  10945.731166  7181.867451   500.0  5500.0   9600.0   \n",
       "\n",
       "                 75%      max  \n",
       "loan_status                    \n",
       "Charged Off  17000.0  35000.0  \n",
       "Fully Paid   15000.0  35000.0  "
      ]
     },
     "execution_count": 69,
     "metadata": {},
     "output_type": "execute_result"
    }
   ],
   "source": [
    "final_loan.groupby('loan_status')['loan_amnt'].describe()"
   ]
  },
  {
   "cell_type": "markdown",
   "metadata": {},
   "source": [
    "**Observation:**\n",
    "\n",
    "- Overall, the applied loan amount distribution is slightly __right-skewed__ with mean greater than the median. Most of the loans granted are below 15000 (75 percentile value)\n",
    "- Funding amounts see a spike around each 5000 boundary. <mark>We will use 5000 as bucket size for later analysis.</mark>\n",
    "- Charged off loans are shifted towards higher average loan amount request."
   ]
  },
  {
   "cell_type": "code",
   "execution_count": 70,
   "metadata": {},
   "outputs": [],
   "source": [
    "#Create Derived categorical variable\n",
    "final_loan['loan_amnt_bin'] = pd.cut(final_loan['loan_amnt'], \n",
    "                                      [x for x in range(0, 36000, 5000)], labels=[str(x)+'-'+str(x+5)+'k' for x in range (0, 35, 5)])"
   ]
  },
  {
   "cell_type": "code",
   "execution_count": 71,
   "metadata": {},
   "outputs": [
    {
     "data": {
      "text/plain": [
       "<matplotlib.axes._subplots.AxesSubplot at 0x1a2329e3d0>"
      ]
     },
     "execution_count": 71,
     "metadata": {},
     "output_type": "execute_result"
    },
    {
     "data": {
      "image/png": "[encoded data removed]",
      "text/plain": [
       "<Figure size 432x288 with 1 Axes>"
      ]
     },
     "metadata": {
      "needs_background": "light"
     },
     "output_type": "display_data"
    }
   ],
   "source": [
    "plotLoanStatus(final_loan, 'loan_amnt_bin')"
   ]
  },
  {
   "cell_type": "markdown",
   "metadata": {},
   "source": [
    "**Observation** :\n",
    "\n",
    "- The % of charged off loans increases substancially as we go up the loan amount buckets. Most loans are below 20000 amount. The higher loans, though lesser in number, carry a substantially higher risk of default."
   ]
  },
  {
   "cell_type": "markdown",
   "metadata": {},
   "source": [
    "**Other categorical variables distribution**\n",
    "\n",
    "Let's see how some other categorical variables of interest are distributed within the dataset "
   ]
  },
  {
   "cell_type": "code",
   "execution_count": 72,
   "metadata": {},
   "outputs": [],
   "source": [
    "def categoricalBarPlots(df, arr):\n",
    "    rows = int(len(arr)/2)\n",
    "    for idx, val in enumerate(arr, start=1):\n",
    "        plt.subplot(rows, 2, idx)\n",
    "        ax = df.groupby(val).loan_amnt.count().plot.bar(color=sns.color_palette('husl', 16))\n",
    "        showLabels(ax)\n",
    "\n",
    "    plt.tight_layout()"
   ]
  },
  {
   "cell_type": "code",
   "execution_count": 73,
   "metadata": {},
   "outputs": [
    {
     "data": {
      "image/png": "[encoded data removed]",
      "text/plain": [
       "<Figure size 1080x1080 with 6 Axes>"
      ]
     },
     "metadata": {
      "needs_background": "light"
     },
     "output_type": "display_data"
    }
   ],
   "source": [
    "plt.figure(figsize=(15,15))\n",
    "\n",
    "categoricalBarPlots(final_loan, ['home_ownership', 'term', 'verification_status', 'purpose', 'grade', 'pub_rec_bankruptcies'])"
   ]
  },
  {
   "cell_type": "markdown",
   "metadata": {},
   "source": [
    "### Power Law"
   ]
  },
  {
   "cell_type": "code",
   "execution_count": 74,
   "metadata": {},
   "outputs": [
    {
     "data": {
      "image/png": "[encoded data removed]",
      "text/plain": [
       "<Figure size 1080x360 with 3 Axes>"
      ]
     },
     "metadata": {
      "needs_background": "light"
     },
     "output_type": "display_data"
    }
   ],
   "source": [
    "#Let's see if some of these variables follow the famous power law.\n",
    "plt.figure(figsize=(15,5))\n",
    "plt.subplot(1, 3, 1)\n",
    "final_loan.groupby('grade').loan_amnt.count().sort_values(ascending=False).plot(kind='line', logy=True, marker='o', color='b')\n",
    "plt.subplot(1, 3, 2)\n",
    "final_loan.groupby('purpose').loan_amnt.count().sort_values(ascending=False).plot(kind='line', logy=True, marker='o', color='b')\n",
    "plt.subplot(1, 3, 3)\n",
    "final_loan.groupby('verification_status').loan_amnt.count().sort_values(ascending=False).plot(kind='line', logy=True, marker='o', color='b')\n",
    "plt.tight_layout()"
   ]
  },
  {
   "cell_type": "markdown",
   "metadata": {},
   "source": [
    "<mark>purpose and verification_status follow the power law</mark>"
   ]
  },
  {
   "cell_type": "markdown",
   "metadata": {},
   "source": [
    "**term** : The number of payments on the loan. Values are in months and can be either 36 or 60."
   ]
  },
  {
   "cell_type": "code",
   "execution_count": 75,
   "metadata": {},
   "outputs": [
    {
     "data": {
      "image/png": "[encoded data removed]",
      "text/plain": [
       "<Figure size 720x360 with 2 Axes>"
      ]
     },
     "metadata": {
      "needs_background": "light"
     },
     "output_type": "display_data"
    }
   ],
   "source": [
    "plt.figure(figsize=(10,5))\n",
    "plot_percentages(final_loan, 'term')"
   ]
  },
  {
   "cell_type": "markdown",
   "metadata": {},
   "source": [
    "**Observation** :\n",
    "\n",
    "- Around 75% of the total loans are given for duration of 3 years. while just 25% of the loans are those given for 5 years.\n",
    "- Among Charged Off loans, percentage of term 60 months rises to 45%. The higher term loans have a higher chance of default."
   ]
  },
  {
   "cell_type": "markdown",
   "metadata": {},
   "source": [
    "**purpose** : A category provided by the borrower for the loan request."
   ]
  },
  {
   "cell_type": "code",
   "execution_count": 76,
   "metadata": {},
   "outputs": [
    {
     "data": {
      "image/png": "[encoded data removed]",
      "text/plain": [
       "<Figure size 1080x360 with 2 Axes>"
      ]
     },
     "metadata": {
      "needs_background": "light"
     },
     "output_type": "display_data"
    }
   ],
   "source": [
    "plt.figure(figsize=(15,5))\n",
    "plot_percentages(final_loan, 'purpose')"
   ]
  },
  {
   "cell_type": "markdown",
   "metadata": {},
   "source": [
    "**Observation** :\n",
    "\n",
    "- The category *small_business* percentage __doubles from 3.8 to 7.2__ for Charged Off loans. Let's see how the categories of this variable behave."
   ]
  },
  {
   "cell_type": "code",
   "execution_count": 77,
   "metadata": {},
   "outputs": [
    {
     "data": {
      "text/plain": [
       "<matplotlib.axes._subplots.AxesSubplot at 0x1a28ecd510>"
      ]
     },
     "execution_count": 77,
     "metadata": {},
     "output_type": "execute_result"
    },
    {
     "data": {
      "image/png": "[encoded data removed]",
      "text/plain": [
       "<Figure size 720x360 with 1 Axes>"
      ]
     },
     "metadata": {
      "needs_background": "light"
     },
     "output_type": "display_data"
    }
   ],
   "source": [
    "plt.figure(figsize=(10, 5))\n",
    "plotLoanStatus(final_loan, 'purpose')"
   ]
  },
  {
   "cell_type": "markdown",
   "metadata": {},
   "source": [
    "**Observation** :\n",
    "\n",
    "- 26% of loans for small business are Charged Off. Making them the most risky purpose.\n",
    "- Approximately ~49% of the loans are issued for the purpose of dept consolidation.\n",
    "- 17% of the loans for renewable_enrgy are charged Off, but the number is too less to be of significance."
   ]
  },
  {
   "cell_type": "markdown",
   "metadata": {},
   "source": [
    "**pub_rec_bankruptcy** : Number of public record bankruptcies"
   ]
  },
  {
   "cell_type": "code",
   "execution_count": 78,
   "metadata": {},
   "outputs": [
    {
     "data": {
      "text/plain": [
       "<matplotlib.axes._subplots.AxesSubplot at 0x1a20dad2d0>"
      ]
     },
     "execution_count": 78,
     "metadata": {},
     "output_type": "execute_result"
    },
    {
     "data": {
      "image/png": "[encoded data removed]",
      "text/plain": [
       "<Figure size 504x360 with 1 Axes>"
      ]
     },
     "metadata": {
      "needs_background": "light"
     },
     "output_type": "display_data"
    }
   ],
   "source": [
    "plt.figure(figsize=(7,5))\n",
    "plotLoanStatus(final_loan, 'pub_rec_bankruptcies')"
   ]
  },
  {
   "cell_type": "markdown",
   "metadata": {},
   "source": [
    "**Observation** :\n",
    "\n",
    "- The percentage of Charged Off loans is markedly higher when the borrower has a prior record of bankruptcy."
   ]
  },
  {
   "cell_type": "markdown",
   "metadata": {},
   "source": [
    "**int_rate** : Interest Rate on the loan."
   ]
  },
  {
   "cell_type": "code",
   "execution_count": 79,
   "metadata": {},
   "outputs": [
    {
     "data": {
      "text/plain": [
       "count    35367.000000\n",
       "mean        11.983468\n",
       "std          3.702512\n",
       "min          5.420000\n",
       "25%          8.940000\n",
       "50%         11.830000\n",
       "75%         14.460000\n",
       "max         24.400000\n",
       "Name: int_rate, dtype: float64"
      ]
     },
     "execution_count": 79,
     "metadata": {},
     "output_type": "execute_result"
    }
   ],
   "source": [
    "final_loan.int_rate.describe()"
   ]
  },
  {
   "cell_type": "code",
   "execution_count": 80,
   "metadata": {},
   "outputs": [
    {
     "data": {
      "text/plain": [
       "<Figure size 1080x360 with 0 Axes>"
      ]
     },
     "metadata": {},
     "output_type": "display_data"
    },
    {
     "data": {
      "image/png": "[encoded data removed]",
      "text/plain": [
       "<Figure size 1080x360 with 2 Axes>"
      ]
     },
     "metadata": {
      "needs_background": "light"
     },
     "output_type": "display_data"
    }
   ],
   "source": [
    "plt.figure(figsize=(15,5))\n",
    "plot_distribution(final_loan, 'int_rate')"
   ]
  },
  {
   "cell_type": "code",
   "execution_count": 81,
   "metadata": {},
   "outputs": [
    {
     "data": {
      "text/html": [
       "<div>\n",
       "<style scoped>\n",
       "    .dataframe tbody tr th:only-of-type {\n",
       "        vertical-align: middle;\n",
       "    }\n",
       "\n",
       "    .dataframe tbody tr th {\n",
       "        vertical-align: top;\n",
       "    }\n",
       "\n",
       "    .dataframe thead th {\n",
       "        text-align: right;\n",
       "    }\n",
       "</style>\n",
       "<table border=\"1\" class=\"dataframe\">\n",
       "  <thead>\n",
       "    <tr style=\"text-align: right;\">\n",
       "      <th></th>\n",
       "      <th>count</th>\n",
       "      <th>mean</th>\n",
       "      <th>std</th>\n",
       "      <th>min</th>\n",
       "      <th>25%</th>\n",
       "      <th>50%</th>\n",
       "      <th>75%</th>\n",
       "      <th>max</th>\n",
       "    </tr>\n",
       "    <tr>\n",
       "      <th>loan_status</th>\n",
       "      <th></th>\n",
       "      <th></th>\n",
       "      <th></th>\n",
       "      <th></th>\n",
       "      <th></th>\n",
       "      <th></th>\n",
       "      <th></th>\n",
       "      <th></th>\n",
       "    </tr>\n",
       "  </thead>\n",
       "  <tbody>\n",
       "    <tr>\n",
       "      <td>Charged Off</td>\n",
       "      <td>4943.0</td>\n",
       "      <td>13.929828</td>\n",
       "      <td>3.647619</td>\n",
       "      <td>5.42</td>\n",
       "      <td>11.49</td>\n",
       "      <td>13.79</td>\n",
       "      <td>16.45</td>\n",
       "      <td>24.40</td>\n",
       "    </tr>\n",
       "    <tr>\n",
       "      <td>Fully Paid</td>\n",
       "      <td>30424.0</td>\n",
       "      <td>11.667243</td>\n",
       "      <td>3.613734</td>\n",
       "      <td>5.42</td>\n",
       "      <td>8.59</td>\n",
       "      <td>11.49</td>\n",
       "      <td>14.09</td>\n",
       "      <td>24.11</td>\n",
       "    </tr>\n",
       "  </tbody>\n",
       "</table>\n",
       "</div>"
      ],
      "text/plain": [
       "               count       mean       std   min    25%    50%    75%    max\n",
       "loan_status                                                                \n",
       "Charged Off   4943.0  13.929828  3.647619  5.42  11.49  13.79  16.45  24.40\n",
       "Fully Paid   30424.0  11.667243  3.613734  5.42   8.59  11.49  14.09  24.11"
      ]
     },
     "execution_count": 81,
     "metadata": {},
     "output_type": "execute_result"
    }
   ],
   "source": [
    "final_loan.groupby('loan_status')['int_rate'].describe()"
   ]
  },
  {
   "cell_type": "markdown",
   "metadata": {},
   "source": [
    "**Observation** :\n",
    "\n",
    "- Overall, the intrest rate varies from **5.42% to 24.4%** with average intrest rate of **11.8%**.\n",
    "- The intrest rate for Charged Off loans appear to be higher than for Fully paid. This is naturally expected. As, the risk increases the rate of interest imposed on the loan also increases. Let's analyze this more"
   ]
  },
  {
   "cell_type": "code",
   "execution_count": 82,
   "metadata": {},
   "outputs": [
    {
     "data": {
      "text/plain": [
       "<matplotlib.axes._subplots.AxesSubplot at 0x1a27b73e50>"
      ]
     },
     "execution_count": 82,
     "metadata": {},
     "output_type": "execute_result"
    },
    {
     "data": {
      "image/png": "[encoded data removed]",
      "text/plain": [
       "<Figure size 864x360 with 1 Axes>"
      ]
     },
     "metadata": {
      "needs_background": "light"
     },
     "output_type": "display_data"
    }
   ],
   "source": [
    "final_loan['interest_rate_buckets'] = round(final_loan['int_rate'])\n",
    "plt.figure(figsize=(12,5))\n",
    "plotLoanStatus(final_loan, 'interest_rate_buckets')"
   ]
  },
  {
   "cell_type": "markdown",
   "metadata": {},
   "source": [
    "**installment** : The monthly payment owed by the borrower if the loan originates."
   ]
  },
  {
   "cell_type": "code",
   "execution_count": 83,
   "metadata": {},
   "outputs": [
    {
     "data": {
      "text/plain": [
       "count    35367.000000\n",
       "mean       324.043982\n",
       "std        207.149088\n",
       "min         16.080000\n",
       "25%        167.840000\n",
       "50%        280.620000\n",
       "75%        426.640000\n",
       "max       1305.190000\n",
       "Name: installment, dtype: float64"
      ]
     },
     "execution_count": 83,
     "metadata": {},
     "output_type": "execute_result"
    }
   ],
   "source": [
    "final_loan.installment.describe()"
   ]
  },
  {
   "cell_type": "code",
   "execution_count": 84,
   "metadata": {},
   "outputs": [
    {
     "data": {
      "text/plain": [
       "<Figure size 1080x360 with 0 Axes>"
      ]
     },
     "metadata": {},
     "output_type": "display_data"
    },
    {
     "data": {
      "image/png": "[encoded data removed]",
      "text/plain": [
       "<Figure size 1080x360 with 2 Axes>"
      ]
     },
     "metadata": {
      "needs_background": "light"
     },
     "output_type": "display_data"
    }
   ],
   "source": [
    "plt.figure(figsize=(15,5))\n",
    "plot_distribution(final_loan, 'installment')"
   ]
  },
  {
   "cell_type": "markdown",
   "metadata": {},
   "source": [
    "final_loan.groupby('loan_status')['installment'].describe()"
   ]
  },
  {
   "cell_type": "markdown",
   "metadata": {},
   "source": [
    "**Observation** :\n",
    "\n",
    "- installment amount varies largely between 170.08 to 420 with median of 280\n",
    "- loans Charged Off have high installment on average"
   ]
  },
  {
   "cell_type": "markdown",
   "metadata": {},
   "source": [
    "**grade and sub_grade** : LC assigned loan grade and subgrade."
   ]
  },
  {
   "cell_type": "code",
   "execution_count": 85,
   "metadata": {},
   "outputs": [
    {
     "data": {
      "text/plain": [
       "B    10718\n",
       "A     9140\n",
       "C     7181\n",
       "D     4663\n",
       "E     2481\n",
       "F      902\n",
       "G      282\n",
       "Name: grade, dtype: int64"
      ]
     },
     "execution_count": 85,
     "metadata": {},
     "output_type": "execute_result"
    }
   ],
   "source": [
    "final_loan.grade.value_counts()"
   ]
  },
  {
   "cell_type": "markdown",
   "metadata": {},
   "source": [
    "Let's find the relative frequencies of the unique sub_grade."
   ]
  },
  {
   "cell_type": "code",
   "execution_count": 86,
   "metadata": {},
   "outputs": [
    {
     "data": {
      "text/plain": [
       "A4    0.075268\n",
       "B3    0.073204\n",
       "A5    0.070320\n",
       "B5    0.069104\n",
       "B4    0.063534\n",
       "Name: sub_grade, dtype: float64"
      ]
     },
     "execution_count": 86,
     "metadata": {},
     "output_type": "execute_result"
    }
   ],
   "source": [
    "final_loan.sub_grade.value_counts(normalize=True).head()"
   ]
  },
  {
   "cell_type": "code",
   "execution_count": 87,
   "metadata": {},
   "outputs": [
    {
     "data": {
      "image/png": "[encoded data removed]",
      "text/plain": [
       "<Figure size 720x360 with 1 Axes>"
      ]
     },
     "metadata": {
      "needs_background": "light"
     },
     "output_type": "display_data"
    }
   ],
   "source": [
    "plt.figure(figsize=(10,5))\n",
    "sns.countplot(final_loan['sub_grade'], order=sorted(final_loan.sub_grade.unique()))\n",
    "plt.show()"
   ]
  },
  {
   "cell_type": "code",
   "execution_count": 89,
   "metadata": {},
   "outputs": [
    {
     "data": {
      "image/png": "[encoded data removed]",
      "text/plain": [
       "<Figure size 1080x360 with 2 Axes>"
      ]
     },
     "metadata": {
      "needs_background": "light"
     },
     "output_type": "display_data"
    }
   ],
   "source": [
    "plt.figure(figsize=(15,5))\n",
    "plot_percentages(final_loan, 'grade', True)"
   ]
  },
  {
   "cell_type": "markdown",
   "metadata": {},
   "source": [
    "**Observation** :\n",
    "\n",
    "- Grade A and B loans are safe. The percentages in full dataset are much higher than percentages in Charged Off loans.\n",
    "- Grade D, E, F, G loans are less safe. We should plot grade by percentage Charged Off by category\n",
    "- Lending Clubs grading system is working well."
   ]
  },
  {
   "cell_type": "code",
   "execution_count": 90,
   "metadata": {},
   "outputs": [
    {
     "data": {
      "text/plain": [
       "<matplotlib.axes._subplots.AxesSubplot at 0x1a20f91190>"
      ]
     },
     "execution_count": 90,
     "metadata": {},
     "output_type": "execute_result"
    },
    {
     "data": {
      "image/png": "[encoded data removed]",
      "text/plain": [
       "<Figure size 720x360 with 1 Axes>"
      ]
     },
     "metadata": {
      "needs_background": "light"
     },
     "output_type": "display_data"
    }
   ],
   "source": [
    "plt.figure(figsize=(10,5))\n",
    "plotLoanStatus(final_loan, 'grade')"
   ]
  },
  {
   "cell_type": "markdown",
   "metadata": {},
   "source": [
    "**Observation** :\n",
    "\n",
    "- Nearly 30% of all loans in Grades F and G see a default.\n",
    "- Grade E onwards are risky, and less numerous. Lending Club should either refuse loans or charge high interest rates."
   ]
  },
  {
   "cell_type": "code",
   "execution_count": 91,
   "metadata": {},
   "outputs": [
    {
     "data": {
      "text/plain": [
       "<matplotlib.axes._subplots.AxesSubplot at 0x1a27ac85d0>"
      ]
     },
     "execution_count": 91,
     "metadata": {},
     "output_type": "execute_result"
    },
    {
     "data": {
      "image/png": "[encoded data removed]",
      "text/plain": [
       "<Figure size 720x360 with 1 Axes>"
      ]
     },
     "metadata": {
      "needs_background": "light"
     },
     "output_type": "display_data"
    }
   ],
   "source": [
    "fig, ax = plt.subplots(figsize=(10,5))\n",
    "final_loan.boxplot(column=['int_rate'],by='grade', ax=ax, rot=90)"
   ]
  },
  {
   "cell_type": "markdown",
   "metadata": {},
   "source": []
  }
 ],
 "metadata": {
  "kernelspec": {
   "display_name": "Python 3",
   "language": "python",
   "name": "python3"
  },
  "language_info": {
   "codemirror_mode": {
    "name": "ipython",
    "version": 3
   },
   "file_extension": ".py",
   "mimetype": "text/x-python",
   "name": "python",
   "nbconvert_exporter": "python",
   "pygments_lexer": "ipython3",
   "version": "3.7.4"
  }
 },
 "nbformat": 4,
 "nbformat_minor": 2
}
